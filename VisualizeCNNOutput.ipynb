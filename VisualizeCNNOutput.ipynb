{
 "cells": [
  {
   "cell_type": "markdown",
   "metadata": {},
   "source": [
    "# Simple Image Manipulation to Display Imporant Dense Layer Features\n",
    "### RadCam:  It stands for nothing but a fun play on words. (See [Grad-CAM](https://arxiv.org/pdf/1610.02391.pdf)).\n",
    "\n",
    "There are great tools for hooking into an existing convolutional neural networks convolutional layers and visualizing the activations (See[Torchray](https://github.com/facebookresearch/TorchRay).)  However these tools add their own compexity and lack of intrepretability.  They also tend to be customized toward VGG-net, googlenet or some other widely used transfer-learning architecture.\n",
    "\n",
    "A simple perturber that iterates over chunks of an image and measures how the output of a CNN differs from the original can help add intrepretability to a CNN at a very high level.  Generally stakeholders don't care about nonlinear activations of specific CNN layers, they care about the output of the model as a whole, how to explain incorrect predictions and formulate plans for future improvement.\n",
    "\n",
    "Rad-Cam is a simple image perturber that takes an initialized pytorch CNN and a PIL image object or numpy array.  It perturbs the image in chunks at a pixel size defined by the user.  It perturbs as white, black, or noise (for now).  It expects a function called `predict` to take the model input, perform inference transforms and output a prediction tensor, ndarray or list.\n",
    "\n",
    "The tensor for every version of the perturbed image and each class are saved and used for a heatmap that overlays the original image.  The heat-map value is the absolute value of the prediction difference between the perturbation at that location and the original unperturbed image.  This technique in effect \"lights up\" important features that are used to make a final prediction."
   ]
  },
  {
   "cell_type": "markdown",
   "metadata": {},
   "source": [
    "## Basic Usage\n",
    "RadCam is a python class that has three major functions  \n",
    "### Initalization\n",
    "Initializing the class requires passing it an inference class using the following protocol:\n",
    "+ The class should be a simple wrapper that inits a model and puts it in eval mode.  The predict function should contain the transformations, inference and output formatting.\n",
    "  * `predict(input: Union[PIL.JpegImageFile, PIL.PngImageFile]) -> Union[list, numpy.ndarray, torch.tensor]`\n",
    "+ The optional paramteres are:\n",
    "  * `image_width: int`: width of the input image.\n",
    "  * `image_height: int`: height of the input image.\n",
    "  * `filter_dims: Tuple[int, int]`: dimensions of perturbation filter.\n",
    "  * `tuple_index: int`: if the predict function in the inference class returns a tuple, the option to select the tuple index containing the predicted probabilities is available.\n",
    "  * `color: RadCam.Colors`: Enum containing `green`, `orange`, `red`, `blue`, `yellow`, `magenta`."
   ]
  },
  {
   "cell_type": "code",
   "execution_count": null,
   "metadata": {},
   "outputs": [],
   "source": [
    "#!pip install radcam\n",
    "#from radcam import Radcam, Colors, Perturbations\n",
    "from PIL import Image\n",
    "\n",
    "cam = RadCam(\n",
    "    model, image_width=200, image_height=200, filter_dims=(15,15), tuple_index=2, color=Colors.orange)"
   ]
  },
  {
   "cell_type": "code",
   "execution_count": 12,
   "metadata": {},
   "outputs": [],
   "source": [
    "\n",
    "from radcam.radcam import RadCam, Colors\n",
    "from radcam.perturber import Perturbation\n",
    "from PIL import Image"
   ]
  },
  {
   "cell_type": "code",
   "execution_count": 2,
   "metadata": {},
   "outputs": [],
   "source": [
    "# Show how to initialize a network that will fit Rad-Cam\n",
    "#!git clone https://github.com/pdoyle5000/plant_disease.git\n",
    "#! curl https://drive.google.com/open?id=11G5YjbId2wttzsrAeHxeRv4buuG4EqlNIWFlfrrlMS8 -o net.pth\n",
    "# command for downloading weights from google drive\n",
    "\n",
    "# Or create bentoml package from plantdisease clasifier and post to Pypi"
   ]
  },
  {
   "cell_type": "code",
   "execution_count": 3,
   "metadata": {},
   "outputs": [],
   "source": [
    "from plant_disease.infer import PlantDiseaseClassifier\n",
    "from plant_disease.dataset import CLASS_MAP"
   ]
  },
  {
   "cell_type": "code",
   "execution_count": 4,
   "metadata": {},
   "outputs": [],
   "source": [
    "# Show how to pass an image that will for Rad-Cam\n",
    "model = PlantDiseaseClassifier(\"/home/pdoyle/workspace/plant_disease/models/wider_net.pth\")"
   ]
  },
  {
   "cell_type": "code",
   "execution_count": 5,
   "metadata": {},
   "outputs": [
    {
     "data": {
      "text/plain": [
       "('bell_pepper_bacterial_spot',\n",
       " tensor(7),\n",
       " tensor([-17.5165,  -5.9780,  -5.4567,  -6.1997, -13.3346,  -7.6576,  -6.6676,\n",
       "           5.5160,   0.1277,  -7.3813, -17.2971,  -7.0657,  -1.9422, -11.4954,\n",
       "          -2.2522]))"
      ]
     },
     "execution_count": 5,
     "metadata": {},
     "output_type": "execute_result"
    }
   ],
   "source": [
    "# This classifier's predict function returns a tuple of information.\n",
    "# For radcam, I only want the predictions.\n",
    "model.predict(Image.open(\"example.JPG\"))"
   ]
  },
  {
   "cell_type": "code",
   "execution_count": 13,
   "metadata": {
    "scrolled": true
   },
   "outputs": [
    {
     "data": {
      "application/vnd.plotly.v1+json": {
       "config": {
        "plotlyServerURL": "https://plot.ly"
       },
       "data": [
        {
         "hoverinfo": "text",
         "mode": "markers",
         "opacity": 0.05,
         "text": [
          0.03618288040161133,
          0.23255538940429688,
          0.18407869338989258,
          0.03259992599487305,
          0.016459941864013672,
          0.019984722137451172,
          0.2413315773010254,
          0.07908010482788086,
          0.40015268325805664,
          0.6493978500366211,
          0.3971977233886719,
          0.3415403366088867,
          0.028481483459472656,
          0.1378927230834961,
          0.11551332473754883,
          0.04406881332397461,
          0.0759587287902832,
          0.03754138946533203,
          0.012468338012695312,
          0.2102952003479004,
          0.13133859634399414,
          0.2637505531311035,
          0.23359203338623047,
          0.09035778045654297,
          0.0735478401184082,
          0.32753705978393555,
          0.1286625862121582,
          0.06810235977172852,
          0.09964227676391602,
          0.030148029327392578,
          0.1939840316772461,
          0.36296558380126953,
          0.13944768905639648,
          0.14748716354370117,
          0.16168928146362305,
          0.21058130264282227,
          0.08018112182617188,
          0.12163114547729492,
          0.1991734504699707,
          0.09575891494750977,
          0.11695051193237305,
          0.29329538345336914,
          0.2613840103149414,
          0.11177587509155273,
          0.30516910552978516,
          0.43581151962280273,
          0.07752561569213867,
          0.08744573593139648,
          0.06871891021728516,
          0.19099903106689453,
          0.13212251663208008,
          0.18281841278076172,
          0.1871633529663086,
          0.06938028335571289,
          0.21366548538208008,
          0.19564533233642578,
          0.10483312606811523,
          0.1934514045715332,
          0.24904775619506836,
          0.19761323928833008,
          0.07087039947509766,
          0.2614445686340332,
          0.11067438125610352,
          0.0005474090576171875,
          0.044141292572021484,
          0.044275760650634766,
          0.12483882904052734,
          0.1400461196899414,
          0.3927316665649414,
          0.09650897979736328,
          0.000339508056640625,
          0.2751469612121582,
          0.5261802673339844,
          0.47188806533813477,
          0.1891617774963379,
          0.06790828704833984,
          0.12753582000732422,
          0.12549686431884766,
          0.15574407577514648,
          0.02120065689086914,
          0.1250319480895996,
          0.20966529846191406,
          0.16578245162963867,
          0.27520084381103516,
          0.02500009536743164,
          0.3056478500366211,
          0.02744913101196289,
          0.18149185180664062,
          0.02490520477294922,
          0.013232231140136719,
          0.024277210235595703,
          0.06609916687011719,
          0.012238502502441406,
          0.10163450241088867,
          0.0532984733581543,
          0.5854744911193848,
          0.620969295501709,
          0.3064899444580078,
          0.4251441955566406,
          0.6529197692871094,
          0.031774044036865234,
          0.02539825439453125,
          0.03381824493408203,
          0.1040029525756836,
          0.10145187377929688,
          0.1975717544555664,
          0.07278013229370117,
          0.12168598175048828,
          0.21553707122802734,
          0.1854405403137207,
          0.15747642517089844,
          0.5815491676330566,
          0.31791257858276367,
          0.1329493522644043,
          0.04478931427001953,
          0.06495189666748047,
          0.10291814804077148,
          0.057898521423339844,
          0.016524314880371094,
          0.12311744689941406,
          0.1370682716369629,
          0.27533483505249023,
          0.02227926254272461,
          0.027199745178222656,
          0.020846843719482422,
          0.04817485809326172,
          0.037131309509277344,
          0.02480173110961914,
          0.00035858154296875,
          0.08145666122436523,
          0.21559524536132812,
          0.05308103561401367,
          0.09518146514892578,
          0.26134252548217773,
          0.19095277786254883,
          0.011500358581542969,
          0.0805211067199707,
          0.009231090545654297,
          0.14528179168701172,
          0.17317628860473633,
          0.0667872428894043,
          0.04065656661987305,
          0.01866626739501953,
          0.3358192443847656,
          0.1693582534790039,
          0.02634286880493164,
          0.014704704284667969,
          0.2578125,
          0.09435176849365234,
          0.09135961532592773,
          0.047907352447509766,
          0.028998851776123047,
          0.0906829833984375,
          0.15423250198364258,
          0.06068611145019531,
          0.0827474594116211,
          0.15271520614624023,
          0.10050487518310547,
          0.1340184211730957,
          0.021696090698242188,
          0.36169958114624023,
          0.20059537887573242,
          0.023792743682861328,
          0.01056671142578125,
          0.047863006591796875,
          0.12488365173339844,
          0.04287862777709961,
          0.11698246002197266,
          0.1036372184753418
         ],
         "type": "scatter",
         "x": [
          7.5,
          22.5,
          37.5,
          52.5,
          67.5,
          82.5,
          97.5,
          112.5,
          127.5,
          142.5,
          157.5,
          172.5,
          187.5,
          7.5,
          22.5,
          37.5,
          52.5,
          67.5,
          82.5,
          97.5,
          112.5,
          127.5,
          142.5,
          157.5,
          172.5,
          187.5,
          7.5,
          22.5,
          37.5,
          52.5,
          67.5,
          82.5,
          97.5,
          112.5,
          127.5,
          142.5,
          157.5,
          172.5,
          187.5,
          7.5,
          22.5,
          37.5,
          52.5,
          67.5,
          82.5,
          97.5,
          112.5,
          127.5,
          142.5,
          157.5,
          172.5,
          187.5,
          7.5,
          22.5,
          37.5,
          52.5,
          67.5,
          82.5,
          97.5,
          112.5,
          127.5,
          142.5,
          157.5,
          172.5,
          187.5,
          7.5,
          22.5,
          37.5,
          52.5,
          67.5,
          82.5,
          97.5,
          112.5,
          127.5,
          142.5,
          157.5,
          172.5,
          187.5,
          7.5,
          22.5,
          37.5,
          52.5,
          67.5,
          82.5,
          97.5,
          112.5,
          127.5,
          142.5,
          157.5,
          172.5,
          187.5,
          7.5,
          22.5,
          37.5,
          52.5,
          67.5,
          82.5,
          97.5,
          112.5,
          127.5,
          142.5,
          157.5,
          172.5,
          187.5,
          7.5,
          22.5,
          37.5,
          52.5,
          67.5,
          82.5,
          97.5,
          112.5,
          127.5,
          142.5,
          157.5,
          172.5,
          187.5,
          7.5,
          22.5,
          37.5,
          52.5,
          67.5,
          82.5,
          97.5,
          112.5,
          127.5,
          142.5,
          157.5,
          172.5,
          187.5,
          7.5,
          22.5,
          37.5,
          52.5,
          67.5,
          82.5,
          97.5,
          112.5,
          127.5,
          142.5,
          157.5,
          172.5,
          187.5,
          7.5,
          22.5,
          37.5,
          52.5,
          67.5,
          82.5,
          97.5,
          112.5,
          127.5,
          142.5,
          157.5,
          172.5,
          187.5,
          7.5,
          22.5,
          37.5,
          52.5,
          67.5,
          82.5,
          97.5,
          112.5,
          127.5,
          142.5,
          157.5,
          172.5,
          187.5
         ],
         "y": [
          7.5,
          7.5,
          7.5,
          7.5,
          7.5,
          7.5,
          7.5,
          7.5,
          7.5,
          7.5,
          7.5,
          7.5,
          7.5,
          22.5,
          22.5,
          22.5,
          22.5,
          22.5,
          22.5,
          22.5,
          22.5,
          22.5,
          22.5,
          22.5,
          22.5,
          22.5,
          37.5,
          37.5,
          37.5,
          37.5,
          37.5,
          37.5,
          37.5,
          37.5,
          37.5,
          37.5,
          37.5,
          37.5,
          37.5,
          52.5,
          52.5,
          52.5,
          52.5,
          52.5,
          52.5,
          52.5,
          52.5,
          52.5,
          52.5,
          52.5,
          52.5,
          52.5,
          67.5,
          67.5,
          67.5,
          67.5,
          67.5,
          67.5,
          67.5,
          67.5,
          67.5,
          67.5,
          67.5,
          67.5,
          67.5,
          82.5,
          82.5,
          82.5,
          82.5,
          82.5,
          82.5,
          82.5,
          82.5,
          82.5,
          82.5,
          82.5,
          82.5,
          82.5,
          97.5,
          97.5,
          97.5,
          97.5,
          97.5,
          97.5,
          97.5,
          97.5,
          97.5,
          97.5,
          97.5,
          97.5,
          97.5,
          112.5,
          112.5,
          112.5,
          112.5,
          112.5,
          112.5,
          112.5,
          112.5,
          112.5,
          112.5,
          112.5,
          112.5,
          112.5,
          127.5,
          127.5,
          127.5,
          127.5,
          127.5,
          127.5,
          127.5,
          127.5,
          127.5,
          127.5,
          127.5,
          127.5,
          127.5,
          142.5,
          142.5,
          142.5,
          142.5,
          142.5,
          142.5,
          142.5,
          142.5,
          142.5,
          142.5,
          142.5,
          142.5,
          142.5,
          157.5,
          157.5,
          157.5,
          157.5,
          157.5,
          157.5,
          157.5,
          157.5,
          157.5,
          157.5,
          157.5,
          157.5,
          157.5,
          172.5,
          172.5,
          172.5,
          172.5,
          172.5,
          172.5,
          172.5,
          172.5,
          172.5,
          172.5,
          172.5,
          172.5,
          172.5,
          187.5,
          187.5,
          187.5,
          187.5,
          187.5,
          187.5,
          187.5,
          187.5,
          187.5,
          187.5,
          187.5,
          187.5,
          187.5
         ]
        }
       ],
       "layout": {
        "autosize": false,
        "height": 240,
        "hovermode": "closest",
        "images": [
         {
          "layer": "below",
          "sizex": 200,
          "sizey": 200,
          "sizing": "stretch",
          "source": "data:image/png;base64,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",
          "x": 0,
          "xref": "x",
          "y": 0,
          "yref": "y"
         }
        ],
        "margin": {
         "b": 20,
         "l": 20,
         "pad": 1,
         "r": 20,
         "t": 20
        },
        "shapes": [
         {
          "fillcolor": "rgba(255, 181, 43, 0.03999999910593033)",
          "line": {
           "width": 0
          },
          "type": "rect",
          "x0": 0,
          "x1": 15,
          "y0": 0,
          "y1": 15
         },
         {
          "fillcolor": "rgba(255, 181, 43, 0.23000000417232513)",
          "line": {
           "width": 0
          },
          "type": "rect",
          "x0": 15,
          "x1": 30,
          "y0": 0,
          "y1": 15
         },
         {
          "fillcolor": "rgba(255, 181, 43, 0.18000000715255737)",
          "line": {
           "width": 0
          },
          "type": "rect",
          "x0": 30,
          "x1": 45,
          "y0": 0,
          "y1": 15
         },
         {
          "fillcolor": "rgba(255, 181, 43, 0.029999999329447746)",
          "line": {
           "width": 0
          },
          "type": "rect",
          "x0": 45,
          "x1": 60,
          "y0": 0,
          "y1": 15
         },
         {
          "fillcolor": "rgba(255, 181, 43, 0.019999999552965164)",
          "line": {
           "width": 0
          },
          "type": "rect",
          "x0": 60,
          "x1": 75,
          "y0": 0,
          "y1": 15
         },
         {
          "fillcolor": "rgba(255, 181, 43, 0.019999999552965164)",
          "line": {
           "width": 0
          },
          "type": "rect",
          "x0": 75,
          "x1": 90,
          "y0": 0,
          "y1": 15
         },
         {
          "fillcolor": "rgba(255, 181, 43, 0.23999999463558197)",
          "line": {
           "width": 0
          },
          "type": "rect",
          "x0": 90,
          "x1": 105,
          "y0": 0,
          "y1": 15
         },
         {
          "fillcolor": "rgba(255, 181, 43, 0.07999999821186066)",
          "line": {
           "width": 0
          },
          "type": "rect",
          "x0": 105,
          "x1": 120,
          "y0": 0,
          "y1": 15
         },
         {
          "fillcolor": "rgba(255, 181, 43, 0.4000000059604645)",
          "line": {
           "width": 0
          },
          "type": "rect",
          "x0": 120,
          "x1": 135,
          "y0": 0,
          "y1": 15
         },
         {
          "fillcolor": "rgba(255, 181, 43, 0.6499999761581421)",
          "line": {
           "width": 0
          },
          "type": "rect",
          "x0": 135,
          "x1": 150,
          "y0": 0,
          "y1": 15
         },
         {
          "fillcolor": "rgba(255, 181, 43, 0.4000000059604645)",
          "line": {
           "width": 0
          },
          "type": "rect",
          "x0": 150,
          "x1": 165,
          "y0": 0,
          "y1": 15
         },
         {
          "fillcolor": "rgba(255, 181, 43, 0.3400000035762787)",
          "line": {
           "width": 0
          },
          "type": "rect",
          "x0": 165,
          "x1": 180,
          "y0": 0,
          "y1": 15
         },
         {
          "fillcolor": "rgba(255, 181, 43, 0.029999999329447746)",
          "line": {
           "width": 0
          },
          "type": "rect",
          "x0": 180,
          "x1": 195,
          "y0": 0,
          "y1": 15
         },
         {
          "fillcolor": "rgba(255, 181, 43, 0.14000000059604645)",
          "line": {
           "width": 0
          },
          "type": "rect",
          "x0": 0,
          "x1": 15,
          "y0": 15,
          "y1": 30
         },
         {
          "fillcolor": "rgba(255, 181, 43, 0.11999999731779099)",
          "line": {
           "width": 0
          },
          "type": "rect",
          "x0": 15,
          "x1": 30,
          "y0": 15,
          "y1": 30
         },
         {
          "fillcolor": "rgba(255, 181, 43, 0.03999999910593033)",
          "line": {
           "width": 0
          },
          "type": "rect",
          "x0": 30,
          "x1": 45,
          "y0": 15,
          "y1": 30
         },
         {
          "fillcolor": "rgba(255, 181, 43, 0.07999999821186066)",
          "line": {
           "width": 0
          },
          "type": "rect",
          "x0": 45,
          "x1": 60,
          "y0": 15,
          "y1": 30
         },
         {
          "fillcolor": "rgba(255, 181, 43, 0.03999999910593033)",
          "line": {
           "width": 0
          },
          "type": "rect",
          "x0": 60,
          "x1": 75,
          "y0": 15,
          "y1": 30
         },
         {
          "fillcolor": "rgba(255, 181, 43, 0.009999999776482582)",
          "line": {
           "width": 0
          },
          "type": "rect",
          "x0": 75,
          "x1": 90,
          "y0": 15,
          "y1": 30
         },
         {
          "fillcolor": "rgba(255, 181, 43, 0.20999999344348907)",
          "line": {
           "width": 0
          },
          "type": "rect",
          "x0": 90,
          "x1": 105,
          "y0": 15,
          "y1": 30
         },
         {
          "fillcolor": "rgba(255, 181, 43, 0.12999999523162842)",
          "line": {
           "width": 0
          },
          "type": "rect",
          "x0": 105,
          "x1": 120,
          "y0": 15,
          "y1": 30
         },
         {
          "fillcolor": "rgba(255, 181, 43, 0.25999999046325684)",
          "line": {
           "width": 0
          },
          "type": "rect",
          "x0": 120,
          "x1": 135,
          "y0": 15,
          "y1": 30
         },
         {
          "fillcolor": "rgba(255, 181, 43, 0.23000000417232513)",
          "line": {
           "width": 0
          },
          "type": "rect",
          "x0": 135,
          "x1": 150,
          "y0": 15,
          "y1": 30
         },
         {
          "fillcolor": "rgba(255, 181, 43, 0.09000000357627869)",
          "line": {
           "width": 0
          },
          "type": "rect",
          "x0": 150,
          "x1": 165,
          "y0": 15,
          "y1": 30
         },
         {
          "fillcolor": "rgba(255, 181, 43, 0.07000000029802322)",
          "line": {
           "width": 0
          },
          "type": "rect",
          "x0": 165,
          "x1": 180,
          "y0": 15,
          "y1": 30
         },
         {
          "fillcolor": "rgba(255, 181, 43, 0.33000001311302185)",
          "line": {
           "width": 0
          },
          "type": "rect",
          "x0": 180,
          "x1": 195,
          "y0": 15,
          "y1": 30
         },
         {
          "fillcolor": "rgba(255, 181, 43, 0.12999999523162842)",
          "line": {
           "width": 0
          },
          "type": "rect",
          "x0": 0,
          "x1": 15,
          "y0": 30,
          "y1": 45
         },
         {
          "fillcolor": "rgba(255, 181, 43, 0.07000000029802322)",
          "line": {
           "width": 0
          },
          "type": "rect",
          "x0": 15,
          "x1": 30,
          "y0": 30,
          "y1": 45
         },
         {
          "fillcolor": "rgba(255, 181, 43, 0.10000000149011612)",
          "line": {
           "width": 0
          },
          "type": "rect",
          "x0": 30,
          "x1": 45,
          "y0": 30,
          "y1": 45
         },
         {
          "fillcolor": "rgba(255, 181, 43, 0.029999999329447746)",
          "line": {
           "width": 0
          },
          "type": "rect",
          "x0": 45,
          "x1": 60,
          "y0": 30,
          "y1": 45
         },
         {
          "fillcolor": "rgba(255, 181, 43, 0.1899999976158142)",
          "line": {
           "width": 0
          },
          "type": "rect",
          "x0": 60,
          "x1": 75,
          "y0": 30,
          "y1": 45
         },
         {
          "fillcolor": "rgba(255, 181, 43, 0.36000001430511475)",
          "line": {
           "width": 0
          },
          "type": "rect",
          "x0": 75,
          "x1": 90,
          "y0": 30,
          "y1": 45
         },
         {
          "fillcolor": "rgba(255, 181, 43, 0.14000000059604645)",
          "line": {
           "width": 0
          },
          "type": "rect",
          "x0": 90,
          "x1": 105,
          "y0": 30,
          "y1": 45
         },
         {
          "fillcolor": "rgba(255, 181, 43, 0.15000000596046448)",
          "line": {
           "width": 0
          },
          "type": "rect",
          "x0": 105,
          "x1": 120,
          "y0": 30,
          "y1": 45
         },
         {
          "fillcolor": "rgba(255, 181, 43, 0.1599999964237213)",
          "line": {
           "width": 0
          },
          "type": "rect",
          "x0": 120,
          "x1": 135,
          "y0": 30,
          "y1": 45
         },
         {
          "fillcolor": "rgba(255, 181, 43, 0.20999999344348907)",
          "line": {
           "width": 0
          },
          "type": "rect",
          "x0": 135,
          "x1": 150,
          "y0": 30,
          "y1": 45
         },
         {
          "fillcolor": "rgba(255, 181, 43, 0.07999999821186066)",
          "line": {
           "width": 0
          },
          "type": "rect",
          "x0": 150,
          "x1": 165,
          "y0": 30,
          "y1": 45
         },
         {
          "fillcolor": "rgba(255, 181, 43, 0.11999999731779099)",
          "line": {
           "width": 0
          },
          "type": "rect",
          "x0": 165,
          "x1": 180,
          "y0": 30,
          "y1": 45
         },
         {
          "fillcolor": "rgba(255, 181, 43, 0.20000000298023224)",
          "line": {
           "width": 0
          },
          "type": "rect",
          "x0": 180,
          "x1": 195,
          "y0": 30,
          "y1": 45
         },
         {
          "fillcolor": "rgba(255, 181, 43, 0.10000000149011612)",
          "line": {
           "width": 0
          },
          "type": "rect",
          "x0": 0,
          "x1": 15,
          "y0": 45,
          "y1": 60
         },
         {
          "fillcolor": "rgba(255, 181, 43, 0.11999999731779099)",
          "line": {
           "width": 0
          },
          "type": "rect",
          "x0": 15,
          "x1": 30,
          "y0": 45,
          "y1": 60
         },
         {
          "fillcolor": "rgba(255, 181, 43, 0.28999999165534973)",
          "line": {
           "width": 0
          },
          "type": "rect",
          "x0": 30,
          "x1": 45,
          "y0": 45,
          "y1": 60
         },
         {
          "fillcolor": "rgba(255, 181, 43, 0.25999999046325684)",
          "line": {
           "width": 0
          },
          "type": "rect",
          "x0": 45,
          "x1": 60,
          "y0": 45,
          "y1": 60
         },
         {
          "fillcolor": "rgba(255, 181, 43, 0.10999999940395355)",
          "line": {
           "width": 0
          },
          "type": "rect",
          "x0": 60,
          "x1": 75,
          "y0": 45,
          "y1": 60
         },
         {
          "fillcolor": "rgba(255, 181, 43, 0.3100000023841858)",
          "line": {
           "width": 0
          },
          "type": "rect",
          "x0": 75,
          "x1": 90,
          "y0": 45,
          "y1": 60
         },
         {
          "fillcolor": "rgba(255, 181, 43, 0.4399999976158142)",
          "line": {
           "width": 0
          },
          "type": "rect",
          "x0": 90,
          "x1": 105,
          "y0": 45,
          "y1": 60
         },
         {
          "fillcolor": "rgba(255, 181, 43, 0.07999999821186066)",
          "line": {
           "width": 0
          },
          "type": "rect",
          "x0": 105,
          "x1": 120,
          "y0": 45,
          "y1": 60
         },
         {
          "fillcolor": "rgba(255, 181, 43, 0.09000000357627869)",
          "line": {
           "width": 0
          },
          "type": "rect",
          "x0": 120,
          "x1": 135,
          "y0": 45,
          "y1": 60
         },
         {
          "fillcolor": "rgba(255, 181, 43, 0.07000000029802322)",
          "line": {
           "width": 0
          },
          "type": "rect",
          "x0": 135,
          "x1": 150,
          "y0": 45,
          "y1": 60
         },
         {
          "fillcolor": "rgba(255, 181, 43, 0.1899999976158142)",
          "line": {
           "width": 0
          },
          "type": "rect",
          "x0": 150,
          "x1": 165,
          "y0": 45,
          "y1": 60
         },
         {
          "fillcolor": "rgba(255, 181, 43, 0.12999999523162842)",
          "line": {
           "width": 0
          },
          "type": "rect",
          "x0": 165,
          "x1": 180,
          "y0": 45,
          "y1": 60
         },
         {
          "fillcolor": "rgba(255, 181, 43, 0.18000000715255737)",
          "line": {
           "width": 0
          },
          "type": "rect",
          "x0": 180,
          "x1": 195,
          "y0": 45,
          "y1": 60
         },
         {
          "fillcolor": "rgba(255, 181, 43, 0.1899999976158142)",
          "line": {
           "width": 0
          },
          "type": "rect",
          "x0": 0,
          "x1": 15,
          "y0": 60,
          "y1": 75
         },
         {
          "fillcolor": "rgba(255, 181, 43, 0.07000000029802322)",
          "line": {
           "width": 0
          },
          "type": "rect",
          "x0": 15,
          "x1": 30,
          "y0": 60,
          "y1": 75
         },
         {
          "fillcolor": "rgba(255, 181, 43, 0.20999999344348907)",
          "line": {
           "width": 0
          },
          "type": "rect",
          "x0": 30,
          "x1": 45,
          "y0": 60,
          "y1": 75
         },
         {
          "fillcolor": "rgba(255, 181, 43, 0.20000000298023224)",
          "line": {
           "width": 0
          },
          "type": "rect",
          "x0": 45,
          "x1": 60,
          "y0": 60,
          "y1": 75
         },
         {
          "fillcolor": "rgba(255, 181, 43, 0.10000000149011612)",
          "line": {
           "width": 0
          },
          "type": "rect",
          "x0": 60,
          "x1": 75,
          "y0": 60,
          "y1": 75
         },
         {
          "fillcolor": "rgba(255, 181, 43, 0.1899999976158142)",
          "line": {
           "width": 0
          },
          "type": "rect",
          "x0": 75,
          "x1": 90,
          "y0": 60,
          "y1": 75
         },
         {
          "fillcolor": "rgba(255, 181, 43, 0.25)",
          "line": {
           "width": 0
          },
          "type": "rect",
          "x0": 90,
          "x1": 105,
          "y0": 60,
          "y1": 75
         },
         {
          "fillcolor": "rgba(255, 181, 43, 0.20000000298023224)",
          "line": {
           "width": 0
          },
          "type": "rect",
          "x0": 105,
          "x1": 120,
          "y0": 60,
          "y1": 75
         },
         {
          "fillcolor": "rgba(255, 181, 43, 0.07000000029802322)",
          "line": {
           "width": 0
          },
          "type": "rect",
          "x0": 120,
          "x1": 135,
          "y0": 60,
          "y1": 75
         },
         {
          "fillcolor": "rgba(255, 181, 43, 0.25999999046325684)",
          "line": {
           "width": 0
          },
          "type": "rect",
          "x0": 135,
          "x1": 150,
          "y0": 60,
          "y1": 75
         },
         {
          "fillcolor": "rgba(255, 181, 43, 0.10999999940395355)",
          "line": {
           "width": 0
          },
          "type": "rect",
          "x0": 150,
          "x1": 165,
          "y0": 60,
          "y1": 75
         },
         {
          "fillcolor": "rgba(255, 181, 43, 0.0)",
          "line": {
           "width": 0
          },
          "type": "rect",
          "x0": 165,
          "x1": 180,
          "y0": 60,
          "y1": 75
         },
         {
          "fillcolor": "rgba(255, 181, 43, 0.03999999910593033)",
          "line": {
           "width": 0
          },
          "type": "rect",
          "x0": 180,
          "x1": 195,
          "y0": 60,
          "y1": 75
         },
         {
          "fillcolor": "rgba(255, 181, 43, 0.03999999910593033)",
          "line": {
           "width": 0
          },
          "type": "rect",
          "x0": 0,
          "x1": 15,
          "y0": 75,
          "y1": 90
         },
         {
          "fillcolor": "rgba(255, 181, 43, 0.11999999731779099)",
          "line": {
           "width": 0
          },
          "type": "rect",
          "x0": 15,
          "x1": 30,
          "y0": 75,
          "y1": 90
         },
         {
          "fillcolor": "rgba(255, 181, 43, 0.14000000059604645)",
          "line": {
           "width": 0
          },
          "type": "rect",
          "x0": 30,
          "x1": 45,
          "y0": 75,
          "y1": 90
         },
         {
          "fillcolor": "rgba(255, 181, 43, 0.38999998569488525)",
          "line": {
           "width": 0
          },
          "type": "rect",
          "x0": 45,
          "x1": 60,
          "y0": 75,
          "y1": 90
         },
         {
          "fillcolor": "rgba(255, 181, 43, 0.10000000149011612)",
          "line": {
           "width": 0
          },
          "type": "rect",
          "x0": 60,
          "x1": 75,
          "y0": 75,
          "y1": 90
         },
         {
          "fillcolor": "rgba(255, 181, 43, 0.0)",
          "line": {
           "width": 0
          },
          "type": "rect",
          "x0": 75,
          "x1": 90,
          "y0": 75,
          "y1": 90
         },
         {
          "fillcolor": "rgba(255, 181, 43, 0.2800000011920929)",
          "line": {
           "width": 0
          },
          "type": "rect",
          "x0": 90,
          "x1": 105,
          "y0": 75,
          "y1": 90
         },
         {
          "fillcolor": "rgba(255, 181, 43, 0.5299999713897705)",
          "line": {
           "width": 0
          },
          "type": "rect",
          "x0": 105,
          "x1": 120,
          "y0": 75,
          "y1": 90
         },
         {
          "fillcolor": "rgba(255, 181, 43, 0.4699999988079071)",
          "line": {
           "width": 0
          },
          "type": "rect",
          "x0": 120,
          "x1": 135,
          "y0": 75,
          "y1": 90
         },
         {
          "fillcolor": "rgba(255, 181, 43, 0.1899999976158142)",
          "line": {
           "width": 0
          },
          "type": "rect",
          "x0": 135,
          "x1": 150,
          "y0": 75,
          "y1": 90
         },
         {
          "fillcolor": "rgba(255, 181, 43, 0.07000000029802322)",
          "line": {
           "width": 0
          },
          "type": "rect",
          "x0": 150,
          "x1": 165,
          "y0": 75,
          "y1": 90
         },
         {
          "fillcolor": "rgba(255, 181, 43, 0.12999999523162842)",
          "line": {
           "width": 0
          },
          "type": "rect",
          "x0": 165,
          "x1": 180,
          "y0": 75,
          "y1": 90
         },
         {
          "fillcolor": "rgba(255, 181, 43, 0.12999999523162842)",
          "line": {
           "width": 0
          },
          "type": "rect",
          "x0": 180,
          "x1": 195,
          "y0": 75,
          "y1": 90
         },
         {
          "fillcolor": "rgba(255, 181, 43, 0.1599999964237213)",
          "line": {
           "width": 0
          },
          "type": "rect",
          "x0": 0,
          "x1": 15,
          "y0": 90,
          "y1": 105
         },
         {
          "fillcolor": "rgba(255, 181, 43, 0.019999999552965164)",
          "line": {
           "width": 0
          },
          "type": "rect",
          "x0": 15,
          "x1": 30,
          "y0": 90,
          "y1": 105
         },
         {
          "fillcolor": "rgba(255, 181, 43, 0.12999999523162842)",
          "line": {
           "width": 0
          },
          "type": "rect",
          "x0": 30,
          "x1": 45,
          "y0": 90,
          "y1": 105
         },
         {
          "fillcolor": "rgba(255, 181, 43, 0.20999999344348907)",
          "line": {
           "width": 0
          },
          "type": "rect",
          "x0": 45,
          "x1": 60,
          "y0": 90,
          "y1": 105
         },
         {
          "fillcolor": "rgba(255, 181, 43, 0.17000000178813934)",
          "line": {
           "width": 0
          },
          "type": "rect",
          "x0": 60,
          "x1": 75,
          "y0": 90,
          "y1": 105
         },
         {
          "fillcolor": "rgba(255, 181, 43, 0.2800000011920929)",
          "line": {
           "width": 0
          },
          "type": "rect",
          "x0": 75,
          "x1": 90,
          "y0": 90,
          "y1": 105
         },
         {
          "fillcolor": "rgba(255, 181, 43, 0.029999999329447746)",
          "line": {
           "width": 0
          },
          "type": "rect",
          "x0": 90,
          "x1": 105,
          "y0": 90,
          "y1": 105
         },
         {
          "fillcolor": "rgba(255, 181, 43, 0.3100000023841858)",
          "line": {
           "width": 0
          },
          "type": "rect",
          "x0": 105,
          "x1": 120,
          "y0": 90,
          "y1": 105
         },
         {
          "fillcolor": "rgba(255, 181, 43, 0.029999999329447746)",
          "line": {
           "width": 0
          },
          "type": "rect",
          "x0": 120,
          "x1": 135,
          "y0": 90,
          "y1": 105
         },
         {
          "fillcolor": "rgba(255, 181, 43, 0.18000000715255737)",
          "line": {
           "width": 0
          },
          "type": "rect",
          "x0": 135,
          "x1": 150,
          "y0": 90,
          "y1": 105
         },
         {
          "fillcolor": "rgba(255, 181, 43, 0.019999999552965164)",
          "line": {
           "width": 0
          },
          "type": "rect",
          "x0": 150,
          "x1": 165,
          "y0": 90,
          "y1": 105
         },
         {
          "fillcolor": "rgba(255, 181, 43, 0.009999999776482582)",
          "line": {
           "width": 0
          },
          "type": "rect",
          "x0": 165,
          "x1": 180,
          "y0": 90,
          "y1": 105
         },
         {
          "fillcolor": "rgba(255, 181, 43, 0.019999999552965164)",
          "line": {
           "width": 0
          },
          "type": "rect",
          "x0": 180,
          "x1": 195,
          "y0": 90,
          "y1": 105
         },
         {
          "fillcolor": "rgba(255, 181, 43, 0.07000000029802322)",
          "line": {
           "width": 0
          },
          "type": "rect",
          "x0": 0,
          "x1": 15,
          "y0": 105,
          "y1": 120
         },
         {
          "fillcolor": "rgba(255, 181, 43, 0.009999999776482582)",
          "line": {
           "width": 0
          },
          "type": "rect",
          "x0": 15,
          "x1": 30,
          "y0": 105,
          "y1": 120
         },
         {
          "fillcolor": "rgba(255, 181, 43, 0.10000000149011612)",
          "line": {
           "width": 0
          },
          "type": "rect",
          "x0": 30,
          "x1": 45,
          "y0": 105,
          "y1": 120
         },
         {
          "fillcolor": "rgba(255, 181, 43, 0.05000000074505806)",
          "line": {
           "width": 0
          },
          "type": "rect",
          "x0": 45,
          "x1": 60,
          "y0": 105,
          "y1": 120
         },
         {
          "fillcolor": "rgba(255, 181, 43, 0.5899999737739563)",
          "line": {
           "width": 0
          },
          "type": "rect",
          "x0": 60,
          "x1": 75,
          "y0": 105,
          "y1": 120
         },
         {
          "fillcolor": "rgba(255, 181, 43, 0.6200000047683716)",
          "line": {
           "width": 0
          },
          "type": "rect",
          "x0": 75,
          "x1": 90,
          "y0": 105,
          "y1": 120
         },
         {
          "fillcolor": "rgba(255, 181, 43, 0.3100000023841858)",
          "line": {
           "width": 0
          },
          "type": "rect",
          "x0": 90,
          "x1": 105,
          "y0": 105,
          "y1": 120
         },
         {
          "fillcolor": "rgba(255, 181, 43, 0.4300000071525574)",
          "line": {
           "width": 0
          },
          "type": "rect",
          "x0": 105,
          "x1": 120,
          "y0": 105,
          "y1": 120
         },
         {
          "fillcolor": "rgba(255, 181, 43, 0.6499999761581421)",
          "line": {
           "width": 0
          },
          "type": "rect",
          "x0": 120,
          "x1": 135,
          "y0": 105,
          "y1": 120
         },
         {
          "fillcolor": "rgba(255, 181, 43, 0.029999999329447746)",
          "line": {
           "width": 0
          },
          "type": "rect",
          "x0": 135,
          "x1": 150,
          "y0": 105,
          "y1": 120
         },
         {
          "fillcolor": "rgba(255, 181, 43, 0.029999999329447746)",
          "line": {
           "width": 0
          },
          "type": "rect",
          "x0": 150,
          "x1": 165,
          "y0": 105,
          "y1": 120
         },
         {
          "fillcolor": "rgba(255, 181, 43, 0.029999999329447746)",
          "line": {
           "width": 0
          },
          "type": "rect",
          "x0": 165,
          "x1": 180,
          "y0": 105,
          "y1": 120
         },
         {
          "fillcolor": "rgba(255, 181, 43, 0.10000000149011612)",
          "line": {
           "width": 0
          },
          "type": "rect",
          "x0": 180,
          "x1": 195,
          "y0": 105,
          "y1": 120
         },
         {
          "fillcolor": "rgba(255, 181, 43, 0.10000000149011612)",
          "line": {
           "width": 0
          },
          "type": "rect",
          "x0": 0,
          "x1": 15,
          "y0": 120,
          "y1": 135
         },
         {
          "fillcolor": "rgba(255, 181, 43, 0.20000000298023224)",
          "line": {
           "width": 0
          },
          "type": "rect",
          "x0": 15,
          "x1": 30,
          "y0": 120,
          "y1": 135
         },
         {
          "fillcolor": "rgba(255, 181, 43, 0.07000000029802322)",
          "line": {
           "width": 0
          },
          "type": "rect",
          "x0": 30,
          "x1": 45,
          "y0": 120,
          "y1": 135
         },
         {
          "fillcolor": "rgba(255, 181, 43, 0.11999999731779099)",
          "line": {
           "width": 0
          },
          "type": "rect",
          "x0": 45,
          "x1": 60,
          "y0": 120,
          "y1": 135
         },
         {
          "fillcolor": "rgba(255, 181, 43, 0.2199999988079071)",
          "line": {
           "width": 0
          },
          "type": "rect",
          "x0": 60,
          "x1": 75,
          "y0": 120,
          "y1": 135
         },
         {
          "fillcolor": "rgba(255, 181, 43, 0.1899999976158142)",
          "line": {
           "width": 0
          },
          "type": "rect",
          "x0": 75,
          "x1": 90,
          "y0": 120,
          "y1": 135
         },
         {
          "fillcolor": "rgba(255, 181, 43, 0.1599999964237213)",
          "line": {
           "width": 0
          },
          "type": "rect",
          "x0": 90,
          "x1": 105,
          "y0": 120,
          "y1": 135
         },
         {
          "fillcolor": "rgba(255, 181, 43, 0.5799999833106995)",
          "line": {
           "width": 0
          },
          "type": "rect",
          "x0": 105,
          "x1": 120,
          "y0": 120,
          "y1": 135
         },
         {
          "fillcolor": "rgba(255, 181, 43, 0.3199999928474426)",
          "line": {
           "width": 0
          },
          "type": "rect",
          "x0": 120,
          "x1": 135,
          "y0": 120,
          "y1": 135
         },
         {
          "fillcolor": "rgba(255, 181, 43, 0.12999999523162842)",
          "line": {
           "width": 0
          },
          "type": "rect",
          "x0": 135,
          "x1": 150,
          "y0": 120,
          "y1": 135
         },
         {
          "fillcolor": "rgba(255, 181, 43, 0.03999999910593033)",
          "line": {
           "width": 0
          },
          "type": "rect",
          "x0": 150,
          "x1": 165,
          "y0": 120,
          "y1": 135
         },
         {
          "fillcolor": "rgba(255, 181, 43, 0.05999999865889549)",
          "line": {
           "width": 0
          },
          "type": "rect",
          "x0": 165,
          "x1": 180,
          "y0": 120,
          "y1": 135
         },
         {
          "fillcolor": "rgba(255, 181, 43, 0.10000000149011612)",
          "line": {
           "width": 0
          },
          "type": "rect",
          "x0": 180,
          "x1": 195,
          "y0": 120,
          "y1": 135
         },
         {
          "fillcolor": "rgba(255, 181, 43, 0.05999999865889549)",
          "line": {
           "width": 0
          },
          "type": "rect",
          "x0": 0,
          "x1": 15,
          "y0": 135,
          "y1": 150
         },
         {
          "fillcolor": "rgba(255, 181, 43, 0.019999999552965164)",
          "line": {
           "width": 0
          },
          "type": "rect",
          "x0": 15,
          "x1": 30,
          "y0": 135,
          "y1": 150
         },
         {
          "fillcolor": "rgba(255, 181, 43, 0.11999999731779099)",
          "line": {
           "width": 0
          },
          "type": "rect",
          "x0": 30,
          "x1": 45,
          "y0": 135,
          "y1": 150
         },
         {
          "fillcolor": "rgba(255, 181, 43, 0.14000000059604645)",
          "line": {
           "width": 0
          },
          "type": "rect",
          "x0": 45,
          "x1": 60,
          "y0": 135,
          "y1": 150
         },
         {
          "fillcolor": "rgba(255, 181, 43, 0.2800000011920929)",
          "line": {
           "width": 0
          },
          "type": "rect",
          "x0": 60,
          "x1": 75,
          "y0": 135,
          "y1": 150
         },
         {
          "fillcolor": "rgba(255, 181, 43, 0.019999999552965164)",
          "line": {
           "width": 0
          },
          "type": "rect",
          "x0": 75,
          "x1": 90,
          "y0": 135,
          "y1": 150
         },
         {
          "fillcolor": "rgba(255, 181, 43, 0.029999999329447746)",
          "line": {
           "width": 0
          },
          "type": "rect",
          "x0": 90,
          "x1": 105,
          "y0": 135,
          "y1": 150
         },
         {
          "fillcolor": "rgba(255, 181, 43, 0.019999999552965164)",
          "line": {
           "width": 0
          },
          "type": "rect",
          "x0": 105,
          "x1": 120,
          "y0": 135,
          "y1": 150
         },
         {
          "fillcolor": "rgba(255, 181, 43, 0.05000000074505806)",
          "line": {
           "width": 0
          },
          "type": "rect",
          "x0": 120,
          "x1": 135,
          "y0": 135,
          "y1": 150
         },
         {
          "fillcolor": "rgba(255, 181, 43, 0.03999999910593033)",
          "line": {
           "width": 0
          },
          "type": "rect",
          "x0": 135,
          "x1": 150,
          "y0": 135,
          "y1": 150
         },
         {
          "fillcolor": "rgba(255, 181, 43, 0.019999999552965164)",
          "line": {
           "width": 0
          },
          "type": "rect",
          "x0": 150,
          "x1": 165,
          "y0": 135,
          "y1": 150
         },
         {
          "fillcolor": "rgba(255, 181, 43, 0.0)",
          "line": {
           "width": 0
          },
          "type": "rect",
          "x0": 165,
          "x1": 180,
          "y0": 135,
          "y1": 150
         },
         {
          "fillcolor": "rgba(255, 181, 43, 0.07999999821186066)",
          "line": {
           "width": 0
          },
          "type": "rect",
          "x0": 180,
          "x1": 195,
          "y0": 135,
          "y1": 150
         },
         {
          "fillcolor": "rgba(255, 181, 43, 0.2199999988079071)",
          "line": {
           "width": 0
          },
          "type": "rect",
          "x0": 0,
          "x1": 15,
          "y0": 150,
          "y1": 165
         },
         {
          "fillcolor": "rgba(255, 181, 43, 0.05000000074505806)",
          "line": {
           "width": 0
          },
          "type": "rect",
          "x0": 15,
          "x1": 30,
          "y0": 150,
          "y1": 165
         },
         {
          "fillcolor": "rgba(255, 181, 43, 0.10000000149011612)",
          "line": {
           "width": 0
          },
          "type": "rect",
          "x0": 30,
          "x1": 45,
          "y0": 150,
          "y1": 165
         },
         {
          "fillcolor": "rgba(255, 181, 43, 0.25999999046325684)",
          "line": {
           "width": 0
          },
          "type": "rect",
          "x0": 45,
          "x1": 60,
          "y0": 150,
          "y1": 165
         },
         {
          "fillcolor": "rgba(255, 181, 43, 0.1899999976158142)",
          "line": {
           "width": 0
          },
          "type": "rect",
          "x0": 60,
          "x1": 75,
          "y0": 150,
          "y1": 165
         },
         {
          "fillcolor": "rgba(255, 181, 43, 0.009999999776482582)",
          "line": {
           "width": 0
          },
          "type": "rect",
          "x0": 75,
          "x1": 90,
          "y0": 150,
          "y1": 165
         },
         {
          "fillcolor": "rgba(255, 181, 43, 0.07999999821186066)",
          "line": {
           "width": 0
          },
          "type": "rect",
          "x0": 90,
          "x1": 105,
          "y0": 150,
          "y1": 165
         },
         {
          "fillcolor": "rgba(255, 181, 43, 0.009999999776482582)",
          "line": {
           "width": 0
          },
          "type": "rect",
          "x0": 105,
          "x1": 120,
          "y0": 150,
          "y1": 165
         },
         {
          "fillcolor": "rgba(255, 181, 43, 0.15000000596046448)",
          "line": {
           "width": 0
          },
          "type": "rect",
          "x0": 120,
          "x1": 135,
          "y0": 150,
          "y1": 165
         },
         {
          "fillcolor": "rgba(255, 181, 43, 0.17000000178813934)",
          "line": {
           "width": 0
          },
          "type": "rect",
          "x0": 135,
          "x1": 150,
          "y0": 150,
          "y1": 165
         },
         {
          "fillcolor": "rgba(255, 181, 43, 0.07000000029802322)",
          "line": {
           "width": 0
          },
          "type": "rect",
          "x0": 150,
          "x1": 165,
          "y0": 150,
          "y1": 165
         },
         {
          "fillcolor": "rgba(255, 181, 43, 0.03999999910593033)",
          "line": {
           "width": 0
          },
          "type": "rect",
          "x0": 165,
          "x1": 180,
          "y0": 150,
          "y1": 165
         },
         {
          "fillcolor": "rgba(255, 181, 43, 0.019999999552965164)",
          "line": {
           "width": 0
          },
          "type": "rect",
          "x0": 180,
          "x1": 195,
          "y0": 150,
          "y1": 165
         },
         {
          "fillcolor": "rgba(255, 181, 43, 0.3400000035762787)",
          "line": {
           "width": 0
          },
          "type": "rect",
          "x0": 0,
          "x1": 15,
          "y0": 165,
          "y1": 180
         },
         {
          "fillcolor": "rgba(255, 181, 43, 0.17000000178813934)",
          "line": {
           "width": 0
          },
          "type": "rect",
          "x0": 15,
          "x1": 30,
          "y0": 165,
          "y1": 180
         },
         {
          "fillcolor": "rgba(255, 181, 43, 0.029999999329447746)",
          "line": {
           "width": 0
          },
          "type": "rect",
          "x0": 30,
          "x1": 45,
          "y0": 165,
          "y1": 180
         },
         {
          "fillcolor": "rgba(255, 181, 43, 0.009999999776482582)",
          "line": {
           "width": 0
          },
          "type": "rect",
          "x0": 45,
          "x1": 60,
          "y0": 165,
          "y1": 180
         },
         {
          "fillcolor": "rgba(255, 181, 43, 0.25999999046325684)",
          "line": {
           "width": 0
          },
          "type": "rect",
          "x0": 60,
          "x1": 75,
          "y0": 165,
          "y1": 180
         },
         {
          "fillcolor": "rgba(255, 181, 43, 0.09000000357627869)",
          "line": {
           "width": 0
          },
          "type": "rect",
          "x0": 75,
          "x1": 90,
          "y0": 165,
          "y1": 180
         },
         {
          "fillcolor": "rgba(255, 181, 43, 0.09000000357627869)",
          "line": {
           "width": 0
          },
          "type": "rect",
          "x0": 90,
          "x1": 105,
          "y0": 165,
          "y1": 180
         },
         {
          "fillcolor": "rgba(255, 181, 43, 0.05000000074505806)",
          "line": {
           "width": 0
          },
          "type": "rect",
          "x0": 105,
          "x1": 120,
          "y0": 165,
          "y1": 180
         },
         {
          "fillcolor": "rgba(255, 181, 43, 0.029999999329447746)",
          "line": {
           "width": 0
          },
          "type": "rect",
          "x0": 120,
          "x1": 135,
          "y0": 165,
          "y1": 180
         },
         {
          "fillcolor": "rgba(255, 181, 43, 0.09000000357627869)",
          "line": {
           "width": 0
          },
          "type": "rect",
          "x0": 135,
          "x1": 150,
          "y0": 165,
          "y1": 180
         },
         {
          "fillcolor": "rgba(255, 181, 43, 0.15000000596046448)",
          "line": {
           "width": 0
          },
          "type": "rect",
          "x0": 150,
          "x1": 165,
          "y0": 165,
          "y1": 180
         },
         {
          "fillcolor": "rgba(255, 181, 43, 0.05999999865889549)",
          "line": {
           "width": 0
          },
          "type": "rect",
          "x0": 165,
          "x1": 180,
          "y0": 165,
          "y1": 180
         },
         {
          "fillcolor": "rgba(255, 181, 43, 0.07999999821186066)",
          "line": {
           "width": 0
          },
          "type": "rect",
          "x0": 180,
          "x1": 195,
          "y0": 165,
          "y1": 180
         },
         {
          "fillcolor": "rgba(255, 181, 43, 0.15000000596046448)",
          "line": {
           "width": 0
          },
          "type": "rect",
          "x0": 0,
          "x1": 15,
          "y0": 180,
          "y1": 195
         },
         {
          "fillcolor": "rgba(255, 181, 43, 0.10000000149011612)",
          "line": {
           "width": 0
          },
          "type": "rect",
          "x0": 15,
          "x1": 30,
          "y0": 180,
          "y1": 195
         },
         {
          "fillcolor": "rgba(255, 181, 43, 0.12999999523162842)",
          "line": {
           "width": 0
          },
          "type": "rect",
          "x0": 30,
          "x1": 45,
          "y0": 180,
          "y1": 195
         },
         {
          "fillcolor": "rgba(255, 181, 43, 0.019999999552965164)",
          "line": {
           "width": 0
          },
          "type": "rect",
          "x0": 45,
          "x1": 60,
          "y0": 180,
          "y1": 195
         },
         {
          "fillcolor": "rgba(255, 181, 43, 0.36000001430511475)",
          "line": {
           "width": 0
          },
          "type": "rect",
          "x0": 60,
          "x1": 75,
          "y0": 180,
          "y1": 195
         },
         {
          "fillcolor": "rgba(255, 181, 43, 0.20000000298023224)",
          "line": {
           "width": 0
          },
          "type": "rect",
          "x0": 75,
          "x1": 90,
          "y0": 180,
          "y1": 195
         },
         {
          "fillcolor": "rgba(255, 181, 43, 0.019999999552965164)",
          "line": {
           "width": 0
          },
          "type": "rect",
          "x0": 90,
          "x1": 105,
          "y0": 180,
          "y1": 195
         },
         {
          "fillcolor": "rgba(255, 181, 43, 0.009999999776482582)",
          "line": {
           "width": 0
          },
          "type": "rect",
          "x0": 105,
          "x1": 120,
          "y0": 180,
          "y1": 195
         },
         {
          "fillcolor": "rgba(255, 181, 43, 0.05000000074505806)",
          "line": {
           "width": 0
          },
          "type": "rect",
          "x0": 120,
          "x1": 135,
          "y0": 180,
          "y1": 195
         },
         {
          "fillcolor": "rgba(255, 181, 43, 0.11999999731779099)",
          "line": {
           "width": 0
          },
          "type": "rect",
          "x0": 135,
          "x1": 150,
          "y0": 180,
          "y1": 195
         },
         {
          "fillcolor": "rgba(255, 181, 43, 0.03999999910593033)",
          "line": {
           "width": 0
          },
          "type": "rect",
          "x0": 150,
          "x1": 165,
          "y0": 180,
          "y1": 195
         },
         {
          "fillcolor": "rgba(255, 181, 43, 0.11999999731779099)",
          "line": {
           "width": 0
          },
          "type": "rect",
          "x0": 165,
          "x1": 180,
          "y0": 180,
          "y1": 195
         },
         {
          "fillcolor": "rgba(255, 181, 43, 0.10000000149011612)",
          "line": {
           "width": 0
          },
          "type": "rect",
          "x0": 180,
          "x1": 195,
          "y0": 180,
          "y1": 195
         }
        ],
        "template": {
         "data": {
          "bar": [
           {
            "error_x": {
             "color": "#2a3f5f"
            },
            "error_y": {
             "color": "#2a3f5f"
            },
            "marker": {
             "line": {
              "color": "#E5ECF6",
              "width": 0.5
             }
            },
            "type": "bar"
           }
          ],
          "barpolar": [
           {
            "marker": {
             "line": {
              "color": "#E5ECF6",
              "width": 0.5
             }
            },
            "type": "barpolar"
           }
          ],
          "carpet": [
           {
            "aaxis": {
             "endlinecolor": "#2a3f5f",
             "gridcolor": "white",
             "linecolor": "white",
             "minorgridcolor": "white",
             "startlinecolor": "#2a3f5f"
            },
            "baxis": {
             "endlinecolor": "#2a3f5f",
             "gridcolor": "white",
             "linecolor": "white",
             "minorgridcolor": "white",
             "startlinecolor": "#2a3f5f"
            },
            "type": "carpet"
           }
          ],
          "choropleth": [
           {
            "colorbar": {
             "outlinewidth": 0,
             "ticks": ""
            },
            "type": "choropleth"
           }
          ],
          "contour": [
           {
            "colorbar": {
             "outlinewidth": 0,
             "ticks": ""
            },
            "colorscale": [
             [
              0,
              "#0d0887"
             ],
             [
              0.1111111111111111,
              "#46039f"
             ],
             [
              0.2222222222222222,
              "#7201a8"
             ],
             [
              0.3333333333333333,
              "#9c179e"
             ],
             [
              0.4444444444444444,
              "#bd3786"
             ],
             [
              0.5555555555555556,
              "#d8576b"
             ],
             [
              0.6666666666666666,
              "#ed7953"
             ],
             [
              0.7777777777777778,
              "#fb9f3a"
             ],
             [
              0.8888888888888888,
              "#fdca26"
             ],
             [
              1,
              "#f0f921"
             ]
            ],
            "type": "contour"
           }
          ],
          "contourcarpet": [
           {
            "colorbar": {
             "outlinewidth": 0,
             "ticks": ""
            },
            "type": "contourcarpet"
           }
          ],
          "heatmap": [
           {
            "colorbar": {
             "outlinewidth": 0,
             "ticks": ""
            },
            "colorscale": [
             [
              0,
              "#0d0887"
             ],
             [
              0.1111111111111111,
              "#46039f"
             ],
             [
              0.2222222222222222,
              "#7201a8"
             ],
             [
              0.3333333333333333,
              "#9c179e"
             ],
             [
              0.4444444444444444,
              "#bd3786"
             ],
             [
              0.5555555555555556,
              "#d8576b"
             ],
             [
              0.6666666666666666,
              "#ed7953"
             ],
             [
              0.7777777777777778,
              "#fb9f3a"
             ],
             [
              0.8888888888888888,
              "#fdca26"
             ],
             [
              1,
              "#f0f921"
             ]
            ],
            "type": "heatmap"
           }
          ],
          "heatmapgl": [
           {
            "colorbar": {
             "outlinewidth": 0,
             "ticks": ""
            },
            "colorscale": [
             [
              0,
              "#0d0887"
             ],
             [
              0.1111111111111111,
              "#46039f"
             ],
             [
              0.2222222222222222,
              "#7201a8"
             ],
             [
              0.3333333333333333,
              "#9c179e"
             ],
             [
              0.4444444444444444,
              "#bd3786"
             ],
             [
              0.5555555555555556,
              "#d8576b"
             ],
             [
              0.6666666666666666,
              "#ed7953"
             ],
             [
              0.7777777777777778,
              "#fb9f3a"
             ],
             [
              0.8888888888888888,
              "#fdca26"
             ],
             [
              1,
              "#f0f921"
             ]
            ],
            "type": "heatmapgl"
           }
          ],
          "histogram": [
           {
            "marker": {
             "colorbar": {
              "outlinewidth": 0,
              "ticks": ""
             }
            },
            "type": "histogram"
           }
          ],
          "histogram2d": [
           {
            "colorbar": {
             "outlinewidth": 0,
             "ticks": ""
            },
            "colorscale": [
             [
              0,
              "#0d0887"
             ],
             [
              0.1111111111111111,
              "#46039f"
             ],
             [
              0.2222222222222222,
              "#7201a8"
             ],
             [
              0.3333333333333333,
              "#9c179e"
             ],
             [
              0.4444444444444444,
              "#bd3786"
             ],
             [
              0.5555555555555556,
              "#d8576b"
             ],
             [
              0.6666666666666666,
              "#ed7953"
             ],
             [
              0.7777777777777778,
              "#fb9f3a"
             ],
             [
              0.8888888888888888,
              "#fdca26"
             ],
             [
              1,
              "#f0f921"
             ]
            ],
            "type": "histogram2d"
           }
          ],
          "histogram2dcontour": [
           {
            "colorbar": {
             "outlinewidth": 0,
             "ticks": ""
            },
            "colorscale": [
             [
              0,
              "#0d0887"
             ],
             [
              0.1111111111111111,
              "#46039f"
             ],
             [
              0.2222222222222222,
              "#7201a8"
             ],
             [
              0.3333333333333333,
              "#9c179e"
             ],
             [
              0.4444444444444444,
              "#bd3786"
             ],
             [
              0.5555555555555556,
              "#d8576b"
             ],
             [
              0.6666666666666666,
              "#ed7953"
             ],
             [
              0.7777777777777778,
              "#fb9f3a"
             ],
             [
              0.8888888888888888,
              "#fdca26"
             ],
             [
              1,
              "#f0f921"
             ]
            ],
            "type": "histogram2dcontour"
           }
          ],
          "mesh3d": [
           {
            "colorbar": {
             "outlinewidth": 0,
             "ticks": ""
            },
            "type": "mesh3d"
           }
          ],
          "parcoords": [
           {
            "line": {
             "colorbar": {
              "outlinewidth": 0,
              "ticks": ""
             }
            },
            "type": "parcoords"
           }
          ],
          "pie": [
           {
            "automargin": true,
            "type": "pie"
           }
          ],
          "scatter": [
           {
            "marker": {
             "colorbar": {
              "outlinewidth": 0,
              "ticks": ""
             }
            },
            "type": "scatter"
           }
          ],
          "scatter3d": [
           {
            "line": {
             "colorbar": {
              "outlinewidth": 0,
              "ticks": ""
             }
            },
            "marker": {
             "colorbar": {
              "outlinewidth": 0,
              "ticks": ""
             }
            },
            "type": "scatter3d"
           }
          ],
          "scattercarpet": [
           {
            "marker": {
             "colorbar": {
              "outlinewidth": 0,
              "ticks": ""
             }
            },
            "type": "scattercarpet"
           }
          ],
          "scattergeo": [
           {
            "marker": {
             "colorbar": {
              "outlinewidth": 0,
              "ticks": ""
             }
            },
            "type": "scattergeo"
           }
          ],
          "scattergl": [
           {
            "marker": {
             "colorbar": {
              "outlinewidth": 0,
              "ticks": ""
             }
            },
            "type": "scattergl"
           }
          ],
          "scattermapbox": [
           {
            "marker": {
             "colorbar": {
              "outlinewidth": 0,
              "ticks": ""
             }
            },
            "type": "scattermapbox"
           }
          ],
          "scatterpolar": [
           {
            "marker": {
             "colorbar": {
              "outlinewidth": 0,
              "ticks": ""
             }
            },
            "type": "scatterpolar"
           }
          ],
          "scatterpolargl": [
           {
            "marker": {
             "colorbar": {
              "outlinewidth": 0,
              "ticks": ""
             }
            },
            "type": "scatterpolargl"
           }
          ],
          "scatterternary": [
           {
            "marker": {
             "colorbar": {
              "outlinewidth": 0,
              "ticks": ""
             }
            },
            "type": "scatterternary"
           }
          ],
          "surface": [
           {
            "colorbar": {
             "outlinewidth": 0,
             "ticks": ""
            },
            "colorscale": [
             [
              0,
              "#0d0887"
             ],
             [
              0.1111111111111111,
              "#46039f"
             ],
             [
              0.2222222222222222,
              "#7201a8"
             ],
             [
              0.3333333333333333,
              "#9c179e"
             ],
             [
              0.4444444444444444,
              "#bd3786"
             ],
             [
              0.5555555555555556,
              "#d8576b"
             ],
             [
              0.6666666666666666,
              "#ed7953"
             ],
             [
              0.7777777777777778,
              "#fb9f3a"
             ],
             [
              0.8888888888888888,
              "#fdca26"
             ],
             [
              1,
              "#f0f921"
             ]
            ],
            "type": "surface"
           }
          ],
          "table": [
           {
            "cells": {
             "fill": {
              "color": "#EBF0F8"
             },
             "line": {
              "color": "white"
             }
            },
            "header": {
             "fill": {
              "color": "#C8D4E3"
             },
             "line": {
              "color": "white"
             }
            },
            "type": "table"
           }
          ]
         },
         "layout": {
          "annotationdefaults": {
           "arrowcolor": "#2a3f5f",
           "arrowhead": 0,
           "arrowwidth": 1
          },
          "coloraxis": {
           "colorbar": {
            "outlinewidth": 0,
            "ticks": ""
           }
          },
          "colorscale": {
           "diverging": [
            [
             0,
             "#8e0152"
            ],
            [
             0.1,
             "#c51b7d"
            ],
            [
             0.2,
             "#de77ae"
            ],
            [
             0.3,
             "#f1b6da"
            ],
            [
             0.4,
             "#fde0ef"
            ],
            [
             0.5,
             "#f7f7f7"
            ],
            [
             0.6,
             "#e6f5d0"
            ],
            [
             0.7,
             "#b8e186"
            ],
            [
             0.8,
             "#7fbc41"
            ],
            [
             0.9,
             "#4d9221"
            ],
            [
             1,
             "#276419"
            ]
           ],
           "sequential": [
            [
             0,
             "#0d0887"
            ],
            [
             0.1111111111111111,
             "#46039f"
            ],
            [
             0.2222222222222222,
             "#7201a8"
            ],
            [
             0.3333333333333333,
             "#9c179e"
            ],
            [
             0.4444444444444444,
             "#bd3786"
            ],
            [
             0.5555555555555556,
             "#d8576b"
            ],
            [
             0.6666666666666666,
             "#ed7953"
            ],
            [
             0.7777777777777778,
             "#fb9f3a"
            ],
            [
             0.8888888888888888,
             "#fdca26"
            ],
            [
             1,
             "#f0f921"
            ]
           ],
           "sequentialminus": [
            [
             0,
             "#0d0887"
            ],
            [
             0.1111111111111111,
             "#46039f"
            ],
            [
             0.2222222222222222,
             "#7201a8"
            ],
            [
             0.3333333333333333,
             "#9c179e"
            ],
            [
             0.4444444444444444,
             "#bd3786"
            ],
            [
             0.5555555555555556,
             "#d8576b"
            ],
            [
             0.6666666666666666,
             "#ed7953"
            ],
            [
             0.7777777777777778,
             "#fb9f3a"
            ],
            [
             0.8888888888888888,
             "#fdca26"
            ],
            [
             1,
             "#f0f921"
            ]
           ]
          },
          "colorway": [
           "#636efa",
           "#EF553B",
           "#00cc96",
           "#ab63fa",
           "#FFA15A",
           "#19d3f3",
           "#FF6692",
           "#B6E880",
           "#FF97FF",
           "#FECB52"
          ],
          "font": {
           "color": "#2a3f5f"
          },
          "geo": {
           "bgcolor": "white",
           "lakecolor": "white",
           "landcolor": "#E5ECF6",
           "showlakes": true,
           "showland": true,
           "subunitcolor": "white"
          },
          "hoverlabel": {
           "align": "left"
          },
          "hovermode": "closest",
          "mapbox": {
           "style": "light"
          },
          "paper_bgcolor": "white",
          "plot_bgcolor": "#E5ECF6",
          "polar": {
           "angularaxis": {
            "gridcolor": "white",
            "linecolor": "white",
            "ticks": ""
           },
           "bgcolor": "#E5ECF6",
           "radialaxis": {
            "gridcolor": "white",
            "linecolor": "white",
            "ticks": ""
           }
          },
          "scene": {
           "xaxis": {
            "backgroundcolor": "#E5ECF6",
            "gridcolor": "white",
            "gridwidth": 2,
            "linecolor": "white",
            "showbackground": true,
            "ticks": "",
            "zerolinecolor": "white"
           },
           "yaxis": {
            "backgroundcolor": "#E5ECF6",
            "gridcolor": "white",
            "gridwidth": 2,
            "linecolor": "white",
            "showbackground": true,
            "ticks": "",
            "zerolinecolor": "white"
           },
           "zaxis": {
            "backgroundcolor": "#E5ECF6",
            "gridcolor": "white",
            "gridwidth": 2,
            "linecolor": "white",
            "showbackground": true,
            "ticks": "",
            "zerolinecolor": "white"
           }
          },
          "shapedefaults": {
           "line": {
            "color": "#2a3f5f"
           }
          },
          "ternary": {
           "aaxis": {
            "gridcolor": "white",
            "linecolor": "white",
            "ticks": ""
           },
           "baxis": {
            "gridcolor": "white",
            "linecolor": "white",
            "ticks": ""
           },
           "bgcolor": "#E5ECF6",
           "caxis": {
            "gridcolor": "white",
            "linecolor": "white",
            "ticks": ""
           }
          },
          "title": {
           "x": 0.05
          },
          "xaxis": {
           "automargin": true,
           "gridcolor": "white",
           "linecolor": "white",
           "ticks": "",
           "title": {
            "standoff": 15
           },
           "zerolinecolor": "white",
           "zerolinewidth": 2
          },
          "yaxis": {
           "automargin": true,
           "gridcolor": "white",
           "linecolor": "white",
           "ticks": "",
           "title": {
            "standoff": 15
           },
           "zerolinecolor": "white",
           "zerolinewidth": 2
          }
         }
        },
        "width": 240,
        "xaxis": {
         "range": [
          0,
          200
         ],
         "showgrid": false,
         "showline": false,
         "showticklabels": true,
         "ticks": "",
         "zeroline": false
        },
        "yaxis": {
         "range": [
          200,
          0
         ],
         "showgrid": false,
         "showline": false,
         "showticklabels": true,
         "ticks": "",
         "zeroline": false
        }
       }
      },
      "text/html": [
       "<div>\n",
       "        \n",
       "        \n",
       "            <div id=\"a7a75ffe-9bdf-47a6-b025-3ca56e427f59\" class=\"plotly-graph-div\" style=\"height:240px; width:240px;\"></div>\n",
       "            <script type=\"text/javascript\">\n",
       "                require([\"plotly\"], function(Plotly) {\n",
       "                    window.PLOTLYENV=window.PLOTLYENV || {};\n",
       "                    \n",
       "                if (document.getElementById(\"a7a75ffe-9bdf-47a6-b025-3ca56e427f59\")) {\n",
       "                    Plotly.newPlot(\n",
       "                        'a7a75ffe-9bdf-47a6-b025-3ca56e427f59',\n",
       "                        [{\"hoverinfo\": \"text\", \"mode\": \"markers\", \"opacity\": 0.05, \"text\": [0.03618288040161133, 0.23255538940429688, 0.18407869338989258, 0.03259992599487305, 0.016459941864013672, 0.019984722137451172, 0.2413315773010254, 0.07908010482788086, 0.40015268325805664, 0.6493978500366211, 0.3971977233886719, 0.3415403366088867, 0.028481483459472656, 0.1378927230834961, 0.11551332473754883, 0.04406881332397461, 0.0759587287902832, 0.03754138946533203, 0.012468338012695312, 0.2102952003479004, 0.13133859634399414, 0.2637505531311035, 0.23359203338623047, 0.09035778045654297, 0.0735478401184082, 0.32753705978393555, 0.1286625862121582, 0.06810235977172852, 0.09964227676391602, 0.030148029327392578, 0.1939840316772461, 0.36296558380126953, 0.13944768905639648, 0.14748716354370117, 0.16168928146362305, 0.21058130264282227, 0.08018112182617188, 0.12163114547729492, 0.1991734504699707, 0.09575891494750977, 0.11695051193237305, 0.29329538345336914, 0.2613840103149414, 0.11177587509155273, 0.30516910552978516, 0.43581151962280273, 0.07752561569213867, 0.08744573593139648, 0.06871891021728516, 0.19099903106689453, 0.13212251663208008, 0.18281841278076172, 0.1871633529663086, 0.06938028335571289, 0.21366548538208008, 0.19564533233642578, 0.10483312606811523, 0.1934514045715332, 0.24904775619506836, 0.19761323928833008, 0.07087039947509766, 0.2614445686340332, 0.11067438125610352, 0.0005474090576171875, 0.044141292572021484, 0.044275760650634766, 0.12483882904052734, 0.1400461196899414, 0.3927316665649414, 0.09650897979736328, 0.000339508056640625, 0.2751469612121582, 0.5261802673339844, 0.47188806533813477, 0.1891617774963379, 0.06790828704833984, 0.12753582000732422, 0.12549686431884766, 0.15574407577514648, 0.02120065689086914, 0.1250319480895996, 0.20966529846191406, 0.16578245162963867, 0.27520084381103516, 0.02500009536743164, 0.3056478500366211, 0.02744913101196289, 0.18149185180664062, 0.02490520477294922, 0.013232231140136719, 0.024277210235595703, 0.06609916687011719, 0.012238502502441406, 0.10163450241088867, 0.0532984733581543, 0.5854744911193848, 0.620969295501709, 0.3064899444580078, 0.4251441955566406, 0.6529197692871094, 0.031774044036865234, 0.02539825439453125, 0.03381824493408203, 0.1040029525756836, 0.10145187377929688, 0.1975717544555664, 0.07278013229370117, 0.12168598175048828, 0.21553707122802734, 0.1854405403137207, 0.15747642517089844, 0.5815491676330566, 0.31791257858276367, 0.1329493522644043, 0.04478931427001953, 0.06495189666748047, 0.10291814804077148, 0.057898521423339844, 0.016524314880371094, 0.12311744689941406, 0.1370682716369629, 0.27533483505249023, 0.02227926254272461, 0.027199745178222656, 0.020846843719482422, 0.04817485809326172, 0.037131309509277344, 0.02480173110961914, 0.00035858154296875, 0.08145666122436523, 0.21559524536132812, 0.05308103561401367, 0.09518146514892578, 0.26134252548217773, 0.19095277786254883, 0.011500358581542969, 0.0805211067199707, 0.009231090545654297, 0.14528179168701172, 0.17317628860473633, 0.0667872428894043, 0.04065656661987305, 0.01866626739501953, 0.3358192443847656, 0.1693582534790039, 0.02634286880493164, 0.014704704284667969, 0.2578125, 0.09435176849365234, 0.09135961532592773, 0.047907352447509766, 0.028998851776123047, 0.0906829833984375, 0.15423250198364258, 0.06068611145019531, 0.0827474594116211, 0.15271520614624023, 0.10050487518310547, 0.1340184211730957, 0.021696090698242188, 0.36169958114624023, 0.20059537887573242, 0.023792743682861328, 0.01056671142578125, 0.047863006591796875, 0.12488365173339844, 0.04287862777709961, 0.11698246002197266, 0.1036372184753418], \"type\": \"scatter\", \"x\": [7.5, 22.5, 37.5, 52.5, 67.5, 82.5, 97.5, 112.5, 127.5, 142.5, 157.5, 172.5, 187.5, 7.5, 22.5, 37.5, 52.5, 67.5, 82.5, 97.5, 112.5, 127.5, 142.5, 157.5, 172.5, 187.5, 7.5, 22.5, 37.5, 52.5, 67.5, 82.5, 97.5, 112.5, 127.5, 142.5, 157.5, 172.5, 187.5, 7.5, 22.5, 37.5, 52.5, 67.5, 82.5, 97.5, 112.5, 127.5, 142.5, 157.5, 172.5, 187.5, 7.5, 22.5, 37.5, 52.5, 67.5, 82.5, 97.5, 112.5, 127.5, 142.5, 157.5, 172.5, 187.5, 7.5, 22.5, 37.5, 52.5, 67.5, 82.5, 97.5, 112.5, 127.5, 142.5, 157.5, 172.5, 187.5, 7.5, 22.5, 37.5, 52.5, 67.5, 82.5, 97.5, 112.5, 127.5, 142.5, 157.5, 172.5, 187.5, 7.5, 22.5, 37.5, 52.5, 67.5, 82.5, 97.5, 112.5, 127.5, 142.5, 157.5, 172.5, 187.5, 7.5, 22.5, 37.5, 52.5, 67.5, 82.5, 97.5, 112.5, 127.5, 142.5, 157.5, 172.5, 187.5, 7.5, 22.5, 37.5, 52.5, 67.5, 82.5, 97.5, 112.5, 127.5, 142.5, 157.5, 172.5, 187.5, 7.5, 22.5, 37.5, 52.5, 67.5, 82.5, 97.5, 112.5, 127.5, 142.5, 157.5, 172.5, 187.5, 7.5, 22.5, 37.5, 52.5, 67.5, 82.5, 97.5, 112.5, 127.5, 142.5, 157.5, 172.5, 187.5, 7.5, 22.5, 37.5, 52.5, 67.5, 82.5, 97.5, 112.5, 127.5, 142.5, 157.5, 172.5, 187.5], \"y\": [7.5, 7.5, 7.5, 7.5, 7.5, 7.5, 7.5, 7.5, 7.5, 7.5, 7.5, 7.5, 7.5, 22.5, 22.5, 22.5, 22.5, 22.5, 22.5, 22.5, 22.5, 22.5, 22.5, 22.5, 22.5, 22.5, 37.5, 37.5, 37.5, 37.5, 37.5, 37.5, 37.5, 37.5, 37.5, 37.5, 37.5, 37.5, 37.5, 52.5, 52.5, 52.5, 52.5, 52.5, 52.5, 52.5, 52.5, 52.5, 52.5, 52.5, 52.5, 52.5, 67.5, 67.5, 67.5, 67.5, 67.5, 67.5, 67.5, 67.5, 67.5, 67.5, 67.5, 67.5, 67.5, 82.5, 82.5, 82.5, 82.5, 82.5, 82.5, 82.5, 82.5, 82.5, 82.5, 82.5, 82.5, 82.5, 97.5, 97.5, 97.5, 97.5, 97.5, 97.5, 97.5, 97.5, 97.5, 97.5, 97.5, 97.5, 97.5, 112.5, 112.5, 112.5, 112.5, 112.5, 112.5, 112.5, 112.5, 112.5, 112.5, 112.5, 112.5, 112.5, 127.5, 127.5, 127.5, 127.5, 127.5, 127.5, 127.5, 127.5, 127.5, 127.5, 127.5, 127.5, 127.5, 142.5, 142.5, 142.5, 142.5, 142.5, 142.5, 142.5, 142.5, 142.5, 142.5, 142.5, 142.5, 142.5, 157.5, 157.5, 157.5, 157.5, 157.5, 157.5, 157.5, 157.5, 157.5, 157.5, 157.5, 157.5, 157.5, 172.5, 172.5, 172.5, 172.5, 172.5, 172.5, 172.5, 172.5, 172.5, 172.5, 172.5, 172.5, 172.5, 187.5, 187.5, 187.5, 187.5, 187.5, 187.5, 187.5, 187.5, 187.5, 187.5, 187.5, 187.5, 187.5]}],\n",
       "                        {\"autosize\": false, \"height\": 240, \"hovermode\": \"closest\", \"images\": [{\"layer\": \"below\", \"sizex\": 200, \"sizey\": 200, \"sizing\": \"stretch\", \"source\": \"data:image/png;base64,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\", \"x\": 0, \"xref\": \"x\", \"y\": 0, \"yref\": \"y\"}], \"margin\": {\"b\": 20, \"l\": 20, \"pad\": 1, \"r\": 20, \"t\": 20}, \"shapes\": [{\"fillcolor\": \"rgba(255, 181, 43, 0.03999999910593033)\", \"line\": {\"width\": 0}, \"type\": \"rect\", \"x0\": 0, \"x1\": 15, \"y0\": 0, \"y1\": 15}, {\"fillcolor\": \"rgba(255, 181, 43, 0.23000000417232513)\", \"line\": {\"width\": 0}, \"type\": \"rect\", \"x0\": 15, \"x1\": 30, \"y0\": 0, \"y1\": 15}, {\"fillcolor\": \"rgba(255, 181, 43, 0.18000000715255737)\", \"line\": {\"width\": 0}, \"type\": \"rect\", \"x0\": 30, \"x1\": 45, \"y0\": 0, \"y1\": 15}, {\"fillcolor\": \"rgba(255, 181, 43, 0.029999999329447746)\", \"line\": {\"width\": 0}, \"type\": \"rect\", \"x0\": 45, \"x1\": 60, \"y0\": 0, \"y1\": 15}, {\"fillcolor\": \"rgba(255, 181, 43, 0.019999999552965164)\", \"line\": {\"width\": 0}, \"type\": \"rect\", \"x0\": 60, \"x1\": 75, \"y0\": 0, \"y1\": 15}, {\"fillcolor\": \"rgba(255, 181, 43, 0.019999999552965164)\", \"line\": {\"width\": 0}, \"type\": \"rect\", \"x0\": 75, \"x1\": 90, \"y0\": 0, \"y1\": 15}, {\"fillcolor\": \"rgba(255, 181, 43, 0.23999999463558197)\", \"line\": {\"width\": 0}, \"type\": \"rect\", \"x0\": 90, \"x1\": 105, \"y0\": 0, \"y1\": 15}, {\"fillcolor\": \"rgba(255, 181, 43, 0.07999999821186066)\", \"line\": {\"width\": 0}, \"type\": \"rect\", \"x0\": 105, \"x1\": 120, \"y0\": 0, \"y1\": 15}, {\"fillcolor\": \"rgba(255, 181, 43, 0.4000000059604645)\", \"line\": {\"width\": 0}, \"type\": \"rect\", \"x0\": 120, \"x1\": 135, \"y0\": 0, \"y1\": 15}, {\"fillcolor\": \"rgba(255, 181, 43, 0.6499999761581421)\", \"line\": {\"width\": 0}, \"type\": \"rect\", \"x0\": 135, \"x1\": 150, \"y0\": 0, \"y1\": 15}, {\"fillcolor\": \"rgba(255, 181, 43, 0.4000000059604645)\", \"line\": {\"width\": 0}, \"type\": \"rect\", \"x0\": 150, \"x1\": 165, \"y0\": 0, \"y1\": 15}, {\"fillcolor\": \"rgba(255, 181, 43, 0.3400000035762787)\", \"line\": {\"width\": 0}, \"type\": \"rect\", \"x0\": 165, \"x1\": 180, \"y0\": 0, \"y1\": 15}, {\"fillcolor\": \"rgba(255, 181, 43, 0.029999999329447746)\", \"line\": {\"width\": 0}, \"type\": \"rect\", \"x0\": 180, \"x1\": 195, \"y0\": 0, \"y1\": 15}, {\"fillcolor\": \"rgba(255, 181, 43, 0.14000000059604645)\", \"line\": {\"width\": 0}, \"type\": \"rect\", \"x0\": 0, \"x1\": 15, \"y0\": 15, \"y1\": 30}, {\"fillcolor\": \"rgba(255, 181, 43, 0.11999999731779099)\", \"line\": {\"width\": 0}, \"type\": \"rect\", \"x0\": 15, \"x1\": 30, \"y0\": 15, \"y1\": 30}, {\"fillcolor\": \"rgba(255, 181, 43, 0.03999999910593033)\", \"line\": {\"width\": 0}, \"type\": \"rect\", \"x0\": 30, \"x1\": 45, \"y0\": 15, \"y1\": 30}, {\"fillcolor\": \"rgba(255, 181, 43, 0.07999999821186066)\", \"line\": {\"width\": 0}, \"type\": \"rect\", \"x0\": 45, \"x1\": 60, \"y0\": 15, \"y1\": 30}, {\"fillcolor\": \"rgba(255, 181, 43, 0.03999999910593033)\", \"line\": {\"width\": 0}, \"type\": \"rect\", \"x0\": 60, \"x1\": 75, \"y0\": 15, \"y1\": 30}, {\"fillcolor\": \"rgba(255, 181, 43, 0.009999999776482582)\", \"line\": {\"width\": 0}, \"type\": \"rect\", \"x0\": 75, \"x1\": 90, \"y0\": 15, \"y1\": 30}, {\"fillcolor\": \"rgba(255, 181, 43, 0.20999999344348907)\", \"line\": {\"width\": 0}, \"type\": \"rect\", \"x0\": 90, \"x1\": 105, \"y0\": 15, \"y1\": 30}, {\"fillcolor\": \"rgba(255, 181, 43, 0.12999999523162842)\", \"line\": {\"width\": 0}, \"type\": \"rect\", \"x0\": 105, \"x1\": 120, \"y0\": 15, \"y1\": 30}, {\"fillcolor\": \"rgba(255, 181, 43, 0.25999999046325684)\", \"line\": {\"width\": 0}, \"type\": \"rect\", \"x0\": 120, \"x1\": 135, \"y0\": 15, \"y1\": 30}, {\"fillcolor\": \"rgba(255, 181, 43, 0.23000000417232513)\", \"line\": {\"width\": 0}, \"type\": \"rect\", \"x0\": 135, \"x1\": 150, \"y0\": 15, \"y1\": 30}, {\"fillcolor\": \"rgba(255, 181, 43, 0.09000000357627869)\", \"line\": {\"width\": 0}, \"type\": \"rect\", \"x0\": 150, \"x1\": 165, \"y0\": 15, \"y1\": 30}, {\"fillcolor\": \"rgba(255, 181, 43, 0.07000000029802322)\", \"line\": {\"width\": 0}, \"type\": \"rect\", \"x0\": 165, \"x1\": 180, \"y0\": 15, \"y1\": 30}, {\"fillcolor\": \"rgba(255, 181, 43, 0.33000001311302185)\", \"line\": {\"width\": 0}, \"type\": \"rect\", \"x0\": 180, \"x1\": 195, \"y0\": 15, \"y1\": 30}, {\"fillcolor\": \"rgba(255, 181, 43, 0.12999999523162842)\", \"line\": {\"width\": 0}, \"type\": \"rect\", \"x0\": 0, \"x1\": 15, \"y0\": 30, \"y1\": 45}, {\"fillcolor\": \"rgba(255, 181, 43, 0.07000000029802322)\", \"line\": {\"width\": 0}, \"type\": \"rect\", \"x0\": 15, \"x1\": 30, \"y0\": 30, \"y1\": 45}, {\"fillcolor\": \"rgba(255, 181, 43, 0.10000000149011612)\", \"line\": {\"width\": 0}, \"type\": \"rect\", \"x0\": 30, \"x1\": 45, \"y0\": 30, \"y1\": 45}, {\"fillcolor\": \"rgba(255, 181, 43, 0.029999999329447746)\", \"line\": {\"width\": 0}, \"type\": \"rect\", \"x0\": 45, \"x1\": 60, \"y0\": 30, \"y1\": 45}, {\"fillcolor\": \"rgba(255, 181, 43, 0.1899999976158142)\", \"line\": {\"width\": 0}, \"type\": \"rect\", \"x0\": 60, \"x1\": 75, \"y0\": 30, \"y1\": 45}, {\"fillcolor\": \"rgba(255, 181, 43, 0.36000001430511475)\", \"line\": {\"width\": 0}, \"type\": \"rect\", \"x0\": 75, \"x1\": 90, \"y0\": 30, \"y1\": 45}, {\"fillcolor\": \"rgba(255, 181, 43, 0.14000000059604645)\", \"line\": {\"width\": 0}, \"type\": \"rect\", \"x0\": 90, \"x1\": 105, \"y0\": 30, \"y1\": 45}, {\"fillcolor\": \"rgba(255, 181, 43, 0.15000000596046448)\", \"line\": {\"width\": 0}, \"type\": \"rect\", \"x0\": 105, \"x1\": 120, \"y0\": 30, \"y1\": 45}, {\"fillcolor\": \"rgba(255, 181, 43, 0.1599999964237213)\", \"line\": {\"width\": 0}, \"type\": \"rect\", \"x0\": 120, \"x1\": 135, \"y0\": 30, \"y1\": 45}, {\"fillcolor\": \"rgba(255, 181, 43, 0.20999999344348907)\", \"line\": {\"width\": 0}, \"type\": \"rect\", \"x0\": 135, \"x1\": 150, \"y0\": 30, \"y1\": 45}, {\"fillcolor\": \"rgba(255, 181, 43, 0.07999999821186066)\", \"line\": {\"width\": 0}, \"type\": \"rect\", \"x0\": 150, \"x1\": 165, \"y0\": 30, \"y1\": 45}, {\"fillcolor\": \"rgba(255, 181, 43, 0.11999999731779099)\", \"line\": {\"width\": 0}, \"type\": \"rect\", \"x0\": 165, \"x1\": 180, \"y0\": 30, \"y1\": 45}, {\"fillcolor\": \"rgba(255, 181, 43, 0.20000000298023224)\", \"line\": {\"width\": 0}, \"type\": \"rect\", \"x0\": 180, \"x1\": 195, \"y0\": 30, \"y1\": 45}, {\"fillcolor\": \"rgba(255, 181, 43, 0.10000000149011612)\", \"line\": {\"width\": 0}, \"type\": \"rect\", \"x0\": 0, \"x1\": 15, \"y0\": 45, \"y1\": 60}, {\"fillcolor\": \"rgba(255, 181, 43, 0.11999999731779099)\", \"line\": {\"width\": 0}, \"type\": \"rect\", \"x0\": 15, \"x1\": 30, \"y0\": 45, \"y1\": 60}, {\"fillcolor\": \"rgba(255, 181, 43, 0.28999999165534973)\", \"line\": {\"width\": 0}, \"type\": \"rect\", \"x0\": 30, \"x1\": 45, \"y0\": 45, \"y1\": 60}, {\"fillcolor\": \"rgba(255, 181, 43, 0.25999999046325684)\", \"line\": {\"width\": 0}, \"type\": \"rect\", \"x0\": 45, \"x1\": 60, \"y0\": 45, \"y1\": 60}, {\"fillcolor\": \"rgba(255, 181, 43, 0.10999999940395355)\", \"line\": {\"width\": 0}, \"type\": \"rect\", \"x0\": 60, \"x1\": 75, \"y0\": 45, \"y1\": 60}, {\"fillcolor\": \"rgba(255, 181, 43, 0.3100000023841858)\", \"line\": {\"width\": 0}, \"type\": \"rect\", \"x0\": 75, \"x1\": 90, \"y0\": 45, \"y1\": 60}, {\"fillcolor\": \"rgba(255, 181, 43, 0.4399999976158142)\", \"line\": {\"width\": 0}, \"type\": \"rect\", \"x0\": 90, \"x1\": 105, \"y0\": 45, \"y1\": 60}, {\"fillcolor\": \"rgba(255, 181, 43, 0.07999999821186066)\", \"line\": {\"width\": 0}, \"type\": \"rect\", \"x0\": 105, \"x1\": 120, \"y0\": 45, \"y1\": 60}, {\"fillcolor\": \"rgba(255, 181, 43, 0.09000000357627869)\", \"line\": {\"width\": 0}, \"type\": \"rect\", \"x0\": 120, \"x1\": 135, \"y0\": 45, \"y1\": 60}, {\"fillcolor\": \"rgba(255, 181, 43, 0.07000000029802322)\", \"line\": {\"width\": 0}, \"type\": \"rect\", \"x0\": 135, \"x1\": 150, \"y0\": 45, \"y1\": 60}, {\"fillcolor\": \"rgba(255, 181, 43, 0.1899999976158142)\", \"line\": {\"width\": 0}, \"type\": \"rect\", \"x0\": 150, \"x1\": 165, \"y0\": 45, \"y1\": 60}, {\"fillcolor\": \"rgba(255, 181, 43, 0.12999999523162842)\", \"line\": {\"width\": 0}, \"type\": \"rect\", \"x0\": 165, \"x1\": 180, \"y0\": 45, \"y1\": 60}, {\"fillcolor\": \"rgba(255, 181, 43, 0.18000000715255737)\", \"line\": {\"width\": 0}, \"type\": \"rect\", \"x0\": 180, \"x1\": 195, \"y0\": 45, \"y1\": 60}, {\"fillcolor\": \"rgba(255, 181, 43, 0.1899999976158142)\", \"line\": {\"width\": 0}, \"type\": \"rect\", \"x0\": 0, \"x1\": 15, \"y0\": 60, \"y1\": 75}, {\"fillcolor\": \"rgba(255, 181, 43, 0.07000000029802322)\", \"line\": {\"width\": 0}, \"type\": \"rect\", \"x0\": 15, \"x1\": 30, \"y0\": 60, \"y1\": 75}, {\"fillcolor\": \"rgba(255, 181, 43, 0.20999999344348907)\", \"line\": {\"width\": 0}, \"type\": \"rect\", \"x0\": 30, \"x1\": 45, \"y0\": 60, \"y1\": 75}, {\"fillcolor\": \"rgba(255, 181, 43, 0.20000000298023224)\", \"line\": {\"width\": 0}, \"type\": \"rect\", \"x0\": 45, \"x1\": 60, \"y0\": 60, \"y1\": 75}, {\"fillcolor\": \"rgba(255, 181, 43, 0.10000000149011612)\", \"line\": {\"width\": 0}, \"type\": \"rect\", \"x0\": 60, \"x1\": 75, \"y0\": 60, \"y1\": 75}, {\"fillcolor\": \"rgba(255, 181, 43, 0.1899999976158142)\", \"line\": {\"width\": 0}, \"type\": \"rect\", \"x0\": 75, \"x1\": 90, \"y0\": 60, \"y1\": 75}, {\"fillcolor\": \"rgba(255, 181, 43, 0.25)\", \"line\": {\"width\": 0}, \"type\": \"rect\", \"x0\": 90, \"x1\": 105, \"y0\": 60, \"y1\": 75}, {\"fillcolor\": \"rgba(255, 181, 43, 0.20000000298023224)\", \"line\": {\"width\": 0}, \"type\": \"rect\", \"x0\": 105, \"x1\": 120, \"y0\": 60, \"y1\": 75}, {\"fillcolor\": \"rgba(255, 181, 43, 0.07000000029802322)\", \"line\": {\"width\": 0}, \"type\": \"rect\", \"x0\": 120, \"x1\": 135, \"y0\": 60, \"y1\": 75}, {\"fillcolor\": \"rgba(255, 181, 43, 0.25999999046325684)\", \"line\": {\"width\": 0}, \"type\": \"rect\", \"x0\": 135, \"x1\": 150, \"y0\": 60, \"y1\": 75}, {\"fillcolor\": \"rgba(255, 181, 43, 0.10999999940395355)\", \"line\": {\"width\": 0}, \"type\": \"rect\", \"x0\": 150, \"x1\": 165, \"y0\": 60, \"y1\": 75}, {\"fillcolor\": \"rgba(255, 181, 43, 0.0)\", \"line\": {\"width\": 0}, \"type\": \"rect\", \"x0\": 165, \"x1\": 180, \"y0\": 60, \"y1\": 75}, {\"fillcolor\": \"rgba(255, 181, 43, 0.03999999910593033)\", \"line\": {\"width\": 0}, \"type\": \"rect\", \"x0\": 180, \"x1\": 195, \"y0\": 60, \"y1\": 75}, {\"fillcolor\": \"rgba(255, 181, 43, 0.03999999910593033)\", \"line\": {\"width\": 0}, \"type\": \"rect\", \"x0\": 0, \"x1\": 15, \"y0\": 75, \"y1\": 90}, {\"fillcolor\": \"rgba(255, 181, 43, 0.11999999731779099)\", \"line\": {\"width\": 0}, \"type\": \"rect\", \"x0\": 15, \"x1\": 30, \"y0\": 75, \"y1\": 90}, {\"fillcolor\": \"rgba(255, 181, 43, 0.14000000059604645)\", \"line\": {\"width\": 0}, \"type\": \"rect\", \"x0\": 30, \"x1\": 45, \"y0\": 75, \"y1\": 90}, {\"fillcolor\": \"rgba(255, 181, 43, 0.38999998569488525)\", \"line\": {\"width\": 0}, \"type\": \"rect\", \"x0\": 45, \"x1\": 60, \"y0\": 75, \"y1\": 90}, {\"fillcolor\": \"rgba(255, 181, 43, 0.10000000149011612)\", \"line\": {\"width\": 0}, \"type\": \"rect\", \"x0\": 60, \"x1\": 75, \"y0\": 75, \"y1\": 90}, {\"fillcolor\": \"rgba(255, 181, 43, 0.0)\", \"line\": {\"width\": 0}, \"type\": \"rect\", \"x0\": 75, \"x1\": 90, \"y0\": 75, \"y1\": 90}, {\"fillcolor\": \"rgba(255, 181, 43, 0.2800000011920929)\", \"line\": {\"width\": 0}, \"type\": \"rect\", \"x0\": 90, \"x1\": 105, \"y0\": 75, \"y1\": 90}, {\"fillcolor\": \"rgba(255, 181, 43, 0.5299999713897705)\", \"line\": {\"width\": 0}, \"type\": \"rect\", \"x0\": 105, \"x1\": 120, \"y0\": 75, \"y1\": 90}, {\"fillcolor\": \"rgba(255, 181, 43, 0.4699999988079071)\", \"line\": {\"width\": 0}, \"type\": \"rect\", \"x0\": 120, \"x1\": 135, \"y0\": 75, \"y1\": 90}, {\"fillcolor\": \"rgba(255, 181, 43, 0.1899999976158142)\", \"line\": {\"width\": 0}, \"type\": \"rect\", \"x0\": 135, \"x1\": 150, \"y0\": 75, \"y1\": 90}, {\"fillcolor\": \"rgba(255, 181, 43, 0.07000000029802322)\", \"line\": {\"width\": 0}, \"type\": \"rect\", \"x0\": 150, \"x1\": 165, \"y0\": 75, \"y1\": 90}, {\"fillcolor\": \"rgba(255, 181, 43, 0.12999999523162842)\", \"line\": {\"width\": 0}, \"type\": \"rect\", \"x0\": 165, \"x1\": 180, \"y0\": 75, \"y1\": 90}, {\"fillcolor\": \"rgba(255, 181, 43, 0.12999999523162842)\", \"line\": {\"width\": 0}, \"type\": \"rect\", \"x0\": 180, \"x1\": 195, \"y0\": 75, \"y1\": 90}, {\"fillcolor\": \"rgba(255, 181, 43, 0.1599999964237213)\", \"line\": {\"width\": 0}, \"type\": \"rect\", \"x0\": 0, \"x1\": 15, \"y0\": 90, \"y1\": 105}, {\"fillcolor\": \"rgba(255, 181, 43, 0.019999999552965164)\", \"line\": {\"width\": 0}, \"type\": \"rect\", \"x0\": 15, \"x1\": 30, \"y0\": 90, \"y1\": 105}, {\"fillcolor\": \"rgba(255, 181, 43, 0.12999999523162842)\", \"line\": {\"width\": 0}, \"type\": \"rect\", \"x0\": 30, \"x1\": 45, \"y0\": 90, \"y1\": 105}, {\"fillcolor\": \"rgba(255, 181, 43, 0.20999999344348907)\", \"line\": {\"width\": 0}, \"type\": \"rect\", \"x0\": 45, \"x1\": 60, \"y0\": 90, \"y1\": 105}, {\"fillcolor\": \"rgba(255, 181, 43, 0.17000000178813934)\", \"line\": {\"width\": 0}, \"type\": \"rect\", \"x0\": 60, \"x1\": 75, \"y0\": 90, \"y1\": 105}, {\"fillcolor\": \"rgba(255, 181, 43, 0.2800000011920929)\", \"line\": {\"width\": 0}, \"type\": \"rect\", \"x0\": 75, \"x1\": 90, \"y0\": 90, \"y1\": 105}, {\"fillcolor\": \"rgba(255, 181, 43, 0.029999999329447746)\", \"line\": {\"width\": 0}, \"type\": \"rect\", \"x0\": 90, \"x1\": 105, \"y0\": 90, \"y1\": 105}, {\"fillcolor\": \"rgba(255, 181, 43, 0.3100000023841858)\", \"line\": {\"width\": 0}, \"type\": \"rect\", \"x0\": 105, \"x1\": 120, \"y0\": 90, \"y1\": 105}, {\"fillcolor\": \"rgba(255, 181, 43, 0.029999999329447746)\", \"line\": {\"width\": 0}, \"type\": \"rect\", \"x0\": 120, \"x1\": 135, \"y0\": 90, \"y1\": 105}, {\"fillcolor\": \"rgba(255, 181, 43, 0.18000000715255737)\", \"line\": {\"width\": 0}, \"type\": \"rect\", \"x0\": 135, \"x1\": 150, \"y0\": 90, \"y1\": 105}, {\"fillcolor\": \"rgba(255, 181, 43, 0.019999999552965164)\", \"line\": {\"width\": 0}, \"type\": \"rect\", \"x0\": 150, \"x1\": 165, \"y0\": 90, \"y1\": 105}, {\"fillcolor\": \"rgba(255, 181, 43, 0.009999999776482582)\", \"line\": {\"width\": 0}, \"type\": \"rect\", \"x0\": 165, \"x1\": 180, \"y0\": 90, \"y1\": 105}, {\"fillcolor\": \"rgba(255, 181, 43, 0.019999999552965164)\", \"line\": {\"width\": 0}, \"type\": \"rect\", \"x0\": 180, \"x1\": 195, \"y0\": 90, \"y1\": 105}, {\"fillcolor\": \"rgba(255, 181, 43, 0.07000000029802322)\", \"line\": {\"width\": 0}, \"type\": \"rect\", \"x0\": 0, \"x1\": 15, \"y0\": 105, \"y1\": 120}, {\"fillcolor\": \"rgba(255, 181, 43, 0.009999999776482582)\", \"line\": {\"width\": 0}, \"type\": \"rect\", \"x0\": 15, \"x1\": 30, \"y0\": 105, \"y1\": 120}, {\"fillcolor\": \"rgba(255, 181, 43, 0.10000000149011612)\", \"line\": {\"width\": 0}, \"type\": \"rect\", \"x0\": 30, \"x1\": 45, \"y0\": 105, \"y1\": 120}, {\"fillcolor\": \"rgba(255, 181, 43, 0.05000000074505806)\", \"line\": {\"width\": 0}, \"type\": \"rect\", \"x0\": 45, \"x1\": 60, \"y0\": 105, \"y1\": 120}, {\"fillcolor\": \"rgba(255, 181, 43, 0.5899999737739563)\", \"line\": {\"width\": 0}, \"type\": \"rect\", \"x0\": 60, \"x1\": 75, \"y0\": 105, \"y1\": 120}, {\"fillcolor\": \"rgba(255, 181, 43, 0.6200000047683716)\", \"line\": {\"width\": 0}, \"type\": \"rect\", \"x0\": 75, \"x1\": 90, \"y0\": 105, \"y1\": 120}, {\"fillcolor\": \"rgba(255, 181, 43, 0.3100000023841858)\", \"line\": {\"width\": 0}, \"type\": \"rect\", \"x0\": 90, \"x1\": 105, \"y0\": 105, \"y1\": 120}, {\"fillcolor\": \"rgba(255, 181, 43, 0.4300000071525574)\", \"line\": {\"width\": 0}, \"type\": \"rect\", \"x0\": 105, \"x1\": 120, \"y0\": 105, \"y1\": 120}, {\"fillcolor\": \"rgba(255, 181, 43, 0.6499999761581421)\", \"line\": {\"width\": 0}, \"type\": \"rect\", \"x0\": 120, \"x1\": 135, \"y0\": 105, \"y1\": 120}, {\"fillcolor\": \"rgba(255, 181, 43, 0.029999999329447746)\", \"line\": {\"width\": 0}, \"type\": \"rect\", \"x0\": 135, \"x1\": 150, \"y0\": 105, \"y1\": 120}, {\"fillcolor\": \"rgba(255, 181, 43, 0.029999999329447746)\", \"line\": {\"width\": 0}, \"type\": \"rect\", \"x0\": 150, \"x1\": 165, \"y0\": 105, \"y1\": 120}, {\"fillcolor\": \"rgba(255, 181, 43, 0.029999999329447746)\", \"line\": {\"width\": 0}, \"type\": \"rect\", \"x0\": 165, \"x1\": 180, \"y0\": 105, \"y1\": 120}, {\"fillcolor\": \"rgba(255, 181, 43, 0.10000000149011612)\", \"line\": {\"width\": 0}, \"type\": \"rect\", \"x0\": 180, \"x1\": 195, \"y0\": 105, \"y1\": 120}, {\"fillcolor\": \"rgba(255, 181, 43, 0.10000000149011612)\", \"line\": {\"width\": 0}, \"type\": \"rect\", \"x0\": 0, \"x1\": 15, \"y0\": 120, \"y1\": 135}, {\"fillcolor\": \"rgba(255, 181, 43, 0.20000000298023224)\", \"line\": {\"width\": 0}, \"type\": \"rect\", \"x0\": 15, \"x1\": 30, \"y0\": 120, \"y1\": 135}, {\"fillcolor\": \"rgba(255, 181, 43, 0.07000000029802322)\", \"line\": {\"width\": 0}, \"type\": \"rect\", \"x0\": 30, \"x1\": 45, \"y0\": 120, \"y1\": 135}, {\"fillcolor\": \"rgba(255, 181, 43, 0.11999999731779099)\", \"line\": {\"width\": 0}, \"type\": \"rect\", \"x0\": 45, \"x1\": 60, \"y0\": 120, \"y1\": 135}, {\"fillcolor\": \"rgba(255, 181, 43, 0.2199999988079071)\", \"line\": {\"width\": 0}, \"type\": \"rect\", \"x0\": 60, \"x1\": 75, \"y0\": 120, \"y1\": 135}, {\"fillcolor\": \"rgba(255, 181, 43, 0.1899999976158142)\", \"line\": {\"width\": 0}, \"type\": \"rect\", \"x0\": 75, \"x1\": 90, \"y0\": 120, \"y1\": 135}, {\"fillcolor\": \"rgba(255, 181, 43, 0.1599999964237213)\", \"line\": {\"width\": 0}, \"type\": \"rect\", \"x0\": 90, \"x1\": 105, \"y0\": 120, \"y1\": 135}, {\"fillcolor\": \"rgba(255, 181, 43, 0.5799999833106995)\", \"line\": {\"width\": 0}, \"type\": \"rect\", \"x0\": 105, \"x1\": 120, \"y0\": 120, \"y1\": 135}, {\"fillcolor\": \"rgba(255, 181, 43, 0.3199999928474426)\", \"line\": {\"width\": 0}, \"type\": \"rect\", \"x0\": 120, \"x1\": 135, \"y0\": 120, \"y1\": 135}, {\"fillcolor\": \"rgba(255, 181, 43, 0.12999999523162842)\", \"line\": {\"width\": 0}, \"type\": \"rect\", \"x0\": 135, \"x1\": 150, \"y0\": 120, \"y1\": 135}, {\"fillcolor\": \"rgba(255, 181, 43, 0.03999999910593033)\", \"line\": {\"width\": 0}, \"type\": \"rect\", \"x0\": 150, \"x1\": 165, \"y0\": 120, \"y1\": 135}, {\"fillcolor\": \"rgba(255, 181, 43, 0.05999999865889549)\", \"line\": {\"width\": 0}, \"type\": \"rect\", \"x0\": 165, \"x1\": 180, \"y0\": 120, \"y1\": 135}, {\"fillcolor\": \"rgba(255, 181, 43, 0.10000000149011612)\", \"line\": {\"width\": 0}, \"type\": \"rect\", \"x0\": 180, \"x1\": 195, \"y0\": 120, \"y1\": 135}, {\"fillcolor\": \"rgba(255, 181, 43, 0.05999999865889549)\", \"line\": {\"width\": 0}, \"type\": \"rect\", \"x0\": 0, \"x1\": 15, \"y0\": 135, \"y1\": 150}, {\"fillcolor\": \"rgba(255, 181, 43, 0.019999999552965164)\", \"line\": {\"width\": 0}, \"type\": \"rect\", \"x0\": 15, \"x1\": 30, \"y0\": 135, \"y1\": 150}, {\"fillcolor\": \"rgba(255, 181, 43, 0.11999999731779099)\", \"line\": {\"width\": 0}, \"type\": \"rect\", \"x0\": 30, \"x1\": 45, \"y0\": 135, \"y1\": 150}, {\"fillcolor\": \"rgba(255, 181, 43, 0.14000000059604645)\", \"line\": {\"width\": 0}, \"type\": \"rect\", \"x0\": 45, \"x1\": 60, \"y0\": 135, \"y1\": 150}, {\"fillcolor\": \"rgba(255, 181, 43, 0.2800000011920929)\", \"line\": {\"width\": 0}, \"type\": \"rect\", \"x0\": 60, \"x1\": 75, \"y0\": 135, \"y1\": 150}, {\"fillcolor\": \"rgba(255, 181, 43, 0.019999999552965164)\", \"line\": {\"width\": 0}, \"type\": \"rect\", \"x0\": 75, \"x1\": 90, \"y0\": 135, \"y1\": 150}, {\"fillcolor\": \"rgba(255, 181, 43, 0.029999999329447746)\", \"line\": {\"width\": 0}, \"type\": \"rect\", \"x0\": 90, \"x1\": 105, \"y0\": 135, \"y1\": 150}, {\"fillcolor\": \"rgba(255, 181, 43, 0.019999999552965164)\", \"line\": {\"width\": 0}, \"type\": \"rect\", \"x0\": 105, \"x1\": 120, \"y0\": 135, \"y1\": 150}, {\"fillcolor\": \"rgba(255, 181, 43, 0.05000000074505806)\", \"line\": {\"width\": 0}, \"type\": \"rect\", \"x0\": 120, \"x1\": 135, \"y0\": 135, \"y1\": 150}, {\"fillcolor\": \"rgba(255, 181, 43, 0.03999999910593033)\", \"line\": {\"width\": 0}, \"type\": \"rect\", \"x0\": 135, \"x1\": 150, \"y0\": 135, \"y1\": 150}, {\"fillcolor\": \"rgba(255, 181, 43, 0.019999999552965164)\", \"line\": {\"width\": 0}, \"type\": \"rect\", \"x0\": 150, \"x1\": 165, \"y0\": 135, \"y1\": 150}, {\"fillcolor\": \"rgba(255, 181, 43, 0.0)\", \"line\": {\"width\": 0}, \"type\": \"rect\", \"x0\": 165, \"x1\": 180, \"y0\": 135, \"y1\": 150}, {\"fillcolor\": \"rgba(255, 181, 43, 0.07999999821186066)\", \"line\": {\"width\": 0}, \"type\": \"rect\", \"x0\": 180, \"x1\": 195, \"y0\": 135, \"y1\": 150}, {\"fillcolor\": \"rgba(255, 181, 43, 0.2199999988079071)\", \"line\": {\"width\": 0}, \"type\": \"rect\", \"x0\": 0, \"x1\": 15, \"y0\": 150, \"y1\": 165}, {\"fillcolor\": \"rgba(255, 181, 43, 0.05000000074505806)\", \"line\": {\"width\": 0}, \"type\": \"rect\", \"x0\": 15, \"x1\": 30, \"y0\": 150, \"y1\": 165}, {\"fillcolor\": \"rgba(255, 181, 43, 0.10000000149011612)\", \"line\": {\"width\": 0}, \"type\": \"rect\", \"x0\": 30, \"x1\": 45, \"y0\": 150, \"y1\": 165}, {\"fillcolor\": \"rgba(255, 181, 43, 0.25999999046325684)\", \"line\": {\"width\": 0}, \"type\": \"rect\", \"x0\": 45, \"x1\": 60, \"y0\": 150, \"y1\": 165}, {\"fillcolor\": \"rgba(255, 181, 43, 0.1899999976158142)\", \"line\": {\"width\": 0}, \"type\": \"rect\", \"x0\": 60, \"x1\": 75, \"y0\": 150, \"y1\": 165}, {\"fillcolor\": \"rgba(255, 181, 43, 0.009999999776482582)\", \"line\": {\"width\": 0}, \"type\": \"rect\", \"x0\": 75, \"x1\": 90, \"y0\": 150, \"y1\": 165}, {\"fillcolor\": \"rgba(255, 181, 43, 0.07999999821186066)\", \"line\": {\"width\": 0}, \"type\": \"rect\", \"x0\": 90, \"x1\": 105, \"y0\": 150, \"y1\": 165}, {\"fillcolor\": \"rgba(255, 181, 43, 0.009999999776482582)\", \"line\": {\"width\": 0}, \"type\": \"rect\", \"x0\": 105, \"x1\": 120, \"y0\": 150, \"y1\": 165}, {\"fillcolor\": \"rgba(255, 181, 43, 0.15000000596046448)\", \"line\": {\"width\": 0}, \"type\": \"rect\", \"x0\": 120, \"x1\": 135, \"y0\": 150, \"y1\": 165}, {\"fillcolor\": \"rgba(255, 181, 43, 0.17000000178813934)\", \"line\": {\"width\": 0}, \"type\": \"rect\", \"x0\": 135, \"x1\": 150, \"y0\": 150, \"y1\": 165}, {\"fillcolor\": \"rgba(255, 181, 43, 0.07000000029802322)\", \"line\": {\"width\": 0}, \"type\": \"rect\", \"x0\": 150, \"x1\": 165, \"y0\": 150, \"y1\": 165}, {\"fillcolor\": \"rgba(255, 181, 43, 0.03999999910593033)\", \"line\": {\"width\": 0}, \"type\": \"rect\", \"x0\": 165, \"x1\": 180, \"y0\": 150, \"y1\": 165}, {\"fillcolor\": \"rgba(255, 181, 43, 0.019999999552965164)\", \"line\": {\"width\": 0}, \"type\": \"rect\", \"x0\": 180, \"x1\": 195, \"y0\": 150, \"y1\": 165}, {\"fillcolor\": \"rgba(255, 181, 43, 0.3400000035762787)\", \"line\": {\"width\": 0}, \"type\": \"rect\", \"x0\": 0, \"x1\": 15, \"y0\": 165, \"y1\": 180}, {\"fillcolor\": \"rgba(255, 181, 43, 0.17000000178813934)\", \"line\": {\"width\": 0}, \"type\": \"rect\", \"x0\": 15, \"x1\": 30, \"y0\": 165, \"y1\": 180}, {\"fillcolor\": \"rgba(255, 181, 43, 0.029999999329447746)\", \"line\": {\"width\": 0}, \"type\": \"rect\", \"x0\": 30, \"x1\": 45, \"y0\": 165, \"y1\": 180}, {\"fillcolor\": \"rgba(255, 181, 43, 0.009999999776482582)\", \"line\": {\"width\": 0}, \"type\": \"rect\", \"x0\": 45, \"x1\": 60, \"y0\": 165, \"y1\": 180}, {\"fillcolor\": \"rgba(255, 181, 43, 0.25999999046325684)\", \"line\": {\"width\": 0}, \"type\": \"rect\", \"x0\": 60, \"x1\": 75, \"y0\": 165, \"y1\": 180}, {\"fillcolor\": \"rgba(255, 181, 43, 0.09000000357627869)\", \"line\": {\"width\": 0}, \"type\": \"rect\", \"x0\": 75, \"x1\": 90, \"y0\": 165, \"y1\": 180}, {\"fillcolor\": \"rgba(255, 181, 43, 0.09000000357627869)\", \"line\": {\"width\": 0}, \"type\": \"rect\", \"x0\": 90, \"x1\": 105, \"y0\": 165, \"y1\": 180}, {\"fillcolor\": \"rgba(255, 181, 43, 0.05000000074505806)\", \"line\": {\"width\": 0}, \"type\": \"rect\", \"x0\": 105, \"x1\": 120, \"y0\": 165, \"y1\": 180}, {\"fillcolor\": \"rgba(255, 181, 43, 0.029999999329447746)\", \"line\": {\"width\": 0}, \"type\": \"rect\", \"x0\": 120, \"x1\": 135, \"y0\": 165, \"y1\": 180}, {\"fillcolor\": \"rgba(255, 181, 43, 0.09000000357627869)\", \"line\": {\"width\": 0}, \"type\": \"rect\", \"x0\": 135, \"x1\": 150, \"y0\": 165, \"y1\": 180}, {\"fillcolor\": \"rgba(255, 181, 43, 0.15000000596046448)\", \"line\": {\"width\": 0}, \"type\": \"rect\", \"x0\": 150, \"x1\": 165, \"y0\": 165, \"y1\": 180}, {\"fillcolor\": \"rgba(255, 181, 43, 0.05999999865889549)\", \"line\": {\"width\": 0}, \"type\": \"rect\", \"x0\": 165, \"x1\": 180, \"y0\": 165, \"y1\": 180}, {\"fillcolor\": \"rgba(255, 181, 43, 0.07999999821186066)\", \"line\": {\"width\": 0}, \"type\": \"rect\", \"x0\": 180, \"x1\": 195, \"y0\": 165, \"y1\": 180}, {\"fillcolor\": \"rgba(255, 181, 43, 0.15000000596046448)\", \"line\": {\"width\": 0}, \"type\": \"rect\", \"x0\": 0, \"x1\": 15, \"y0\": 180, \"y1\": 195}, {\"fillcolor\": \"rgba(255, 181, 43, 0.10000000149011612)\", \"line\": {\"width\": 0}, \"type\": \"rect\", \"x0\": 15, \"x1\": 30, \"y0\": 180, \"y1\": 195}, {\"fillcolor\": \"rgba(255, 181, 43, 0.12999999523162842)\", \"line\": {\"width\": 0}, \"type\": \"rect\", \"x0\": 30, \"x1\": 45, \"y0\": 180, \"y1\": 195}, {\"fillcolor\": \"rgba(255, 181, 43, 0.019999999552965164)\", \"line\": {\"width\": 0}, \"type\": \"rect\", \"x0\": 45, \"x1\": 60, \"y0\": 180, \"y1\": 195}, {\"fillcolor\": \"rgba(255, 181, 43, 0.36000001430511475)\", \"line\": {\"width\": 0}, \"type\": \"rect\", \"x0\": 60, \"x1\": 75, \"y0\": 180, \"y1\": 195}, {\"fillcolor\": \"rgba(255, 181, 43, 0.20000000298023224)\", \"line\": {\"width\": 0}, \"type\": \"rect\", \"x0\": 75, \"x1\": 90, \"y0\": 180, \"y1\": 195}, {\"fillcolor\": \"rgba(255, 181, 43, 0.019999999552965164)\", \"line\": {\"width\": 0}, \"type\": \"rect\", \"x0\": 90, \"x1\": 105, \"y0\": 180, \"y1\": 195}, {\"fillcolor\": \"rgba(255, 181, 43, 0.009999999776482582)\", \"line\": {\"width\": 0}, \"type\": \"rect\", \"x0\": 105, \"x1\": 120, \"y0\": 180, \"y1\": 195}, {\"fillcolor\": \"rgba(255, 181, 43, 0.05000000074505806)\", \"line\": {\"width\": 0}, \"type\": \"rect\", \"x0\": 120, \"x1\": 135, \"y0\": 180, \"y1\": 195}, {\"fillcolor\": \"rgba(255, 181, 43, 0.11999999731779099)\", \"line\": {\"width\": 0}, \"type\": \"rect\", \"x0\": 135, \"x1\": 150, \"y0\": 180, \"y1\": 195}, {\"fillcolor\": \"rgba(255, 181, 43, 0.03999999910593033)\", \"line\": {\"width\": 0}, \"type\": \"rect\", \"x0\": 150, \"x1\": 165, \"y0\": 180, \"y1\": 195}, {\"fillcolor\": \"rgba(255, 181, 43, 0.11999999731779099)\", \"line\": {\"width\": 0}, \"type\": \"rect\", \"x0\": 165, \"x1\": 180, \"y0\": 180, \"y1\": 195}, {\"fillcolor\": \"rgba(255, 181, 43, 0.10000000149011612)\", \"line\": {\"width\": 0}, \"type\": \"rect\", \"x0\": 180, \"x1\": 195, \"y0\": 180, \"y1\": 195}], \"template\": {\"data\": {\"bar\": [{\"error_x\": {\"color\": \"#2a3f5f\"}, \"error_y\": {\"color\": \"#2a3f5f\"}, \"marker\": {\"line\": {\"color\": \"#E5ECF6\", \"width\": 0.5}}, \"type\": \"bar\"}], \"barpolar\": [{\"marker\": {\"line\": {\"color\": \"#E5ECF6\", \"width\": 0.5}}, \"type\": \"barpolar\"}], \"carpet\": [{\"aaxis\": {\"endlinecolor\": \"#2a3f5f\", \"gridcolor\": \"white\", \"linecolor\": \"white\", \"minorgridcolor\": \"white\", \"startlinecolor\": \"#2a3f5f\"}, \"baxis\": {\"endlinecolor\": \"#2a3f5f\", \"gridcolor\": \"white\", \"linecolor\": \"white\", \"minorgridcolor\": \"white\", \"startlinecolor\": \"#2a3f5f\"}, \"type\": \"carpet\"}], \"choropleth\": [{\"colorbar\": {\"outlinewidth\": 0, \"ticks\": \"\"}, \"type\": \"choropleth\"}], \"contour\": [{\"colorbar\": {\"outlinewidth\": 0, \"ticks\": \"\"}, \"colorscale\": [[0.0, \"#0d0887\"], [0.1111111111111111, \"#46039f\"], [0.2222222222222222, \"#7201a8\"], [0.3333333333333333, \"#9c179e\"], [0.4444444444444444, \"#bd3786\"], [0.5555555555555556, \"#d8576b\"], [0.6666666666666666, \"#ed7953\"], [0.7777777777777778, \"#fb9f3a\"], [0.8888888888888888, \"#fdca26\"], [1.0, \"#f0f921\"]], \"type\": \"contour\"}], \"contourcarpet\": [{\"colorbar\": {\"outlinewidth\": 0, \"ticks\": \"\"}, \"type\": \"contourcarpet\"}], \"heatmap\": [{\"colorbar\": {\"outlinewidth\": 0, \"ticks\": \"\"}, \"colorscale\": [[0.0, \"#0d0887\"], [0.1111111111111111, \"#46039f\"], [0.2222222222222222, \"#7201a8\"], [0.3333333333333333, \"#9c179e\"], [0.4444444444444444, \"#bd3786\"], [0.5555555555555556, \"#d8576b\"], [0.6666666666666666, \"#ed7953\"], [0.7777777777777778, \"#fb9f3a\"], [0.8888888888888888, \"#fdca26\"], [1.0, \"#f0f921\"]], \"type\": \"heatmap\"}], \"heatmapgl\": [{\"colorbar\": {\"outlinewidth\": 0, \"ticks\": \"\"}, \"colorscale\": [[0.0, \"#0d0887\"], [0.1111111111111111, \"#46039f\"], [0.2222222222222222, \"#7201a8\"], [0.3333333333333333, \"#9c179e\"], [0.4444444444444444, \"#bd3786\"], [0.5555555555555556, \"#d8576b\"], [0.6666666666666666, \"#ed7953\"], [0.7777777777777778, \"#fb9f3a\"], [0.8888888888888888, \"#fdca26\"], [1.0, \"#f0f921\"]], \"type\": \"heatmapgl\"}], \"histogram\": [{\"marker\": {\"colorbar\": {\"outlinewidth\": 0, \"ticks\": \"\"}}, \"type\": \"histogram\"}], \"histogram2d\": [{\"colorbar\": {\"outlinewidth\": 0, \"ticks\": \"\"}, \"colorscale\": [[0.0, \"#0d0887\"], [0.1111111111111111, \"#46039f\"], [0.2222222222222222, \"#7201a8\"], [0.3333333333333333, \"#9c179e\"], [0.4444444444444444, \"#bd3786\"], [0.5555555555555556, \"#d8576b\"], [0.6666666666666666, \"#ed7953\"], [0.7777777777777778, \"#fb9f3a\"], [0.8888888888888888, \"#fdca26\"], [1.0, \"#f0f921\"]], \"type\": \"histogram2d\"}], \"histogram2dcontour\": [{\"colorbar\": {\"outlinewidth\": 0, \"ticks\": \"\"}, \"colorscale\": [[0.0, \"#0d0887\"], [0.1111111111111111, \"#46039f\"], [0.2222222222222222, \"#7201a8\"], [0.3333333333333333, \"#9c179e\"], [0.4444444444444444, \"#bd3786\"], [0.5555555555555556, \"#d8576b\"], [0.6666666666666666, \"#ed7953\"], [0.7777777777777778, \"#fb9f3a\"], [0.8888888888888888, \"#fdca26\"], [1.0, \"#f0f921\"]], \"type\": \"histogram2dcontour\"}], \"mesh3d\": [{\"colorbar\": {\"outlinewidth\": 0, \"ticks\": \"\"}, \"type\": \"mesh3d\"}], \"parcoords\": [{\"line\": {\"colorbar\": {\"outlinewidth\": 0, \"ticks\": \"\"}}, \"type\": \"parcoords\"}], \"pie\": [{\"automargin\": true, \"type\": \"pie\"}], \"scatter\": [{\"marker\": {\"colorbar\": {\"outlinewidth\": 0, \"ticks\": \"\"}}, \"type\": \"scatter\"}], \"scatter3d\": [{\"line\": {\"colorbar\": {\"outlinewidth\": 0, \"ticks\": \"\"}}, \"marker\": {\"colorbar\": {\"outlinewidth\": 0, \"ticks\": \"\"}}, \"type\": \"scatter3d\"}], \"scattercarpet\": [{\"marker\": {\"colorbar\": {\"outlinewidth\": 0, \"ticks\": \"\"}}, \"type\": \"scattercarpet\"}], \"scattergeo\": [{\"marker\": {\"colorbar\": {\"outlinewidth\": 0, \"ticks\": \"\"}}, \"type\": \"scattergeo\"}], \"scattergl\": [{\"marker\": {\"colorbar\": {\"outlinewidth\": 0, \"ticks\": \"\"}}, \"type\": \"scattergl\"}], \"scattermapbox\": [{\"marker\": {\"colorbar\": {\"outlinewidth\": 0, \"ticks\": \"\"}}, \"type\": \"scattermapbox\"}], \"scatterpolar\": [{\"marker\": {\"colorbar\": {\"outlinewidth\": 0, \"ticks\": \"\"}}, \"type\": \"scatterpolar\"}], \"scatterpolargl\": [{\"marker\": {\"colorbar\": {\"outlinewidth\": 0, \"ticks\": \"\"}}, \"type\": \"scatterpolargl\"}], \"scatterternary\": [{\"marker\": {\"colorbar\": {\"outlinewidth\": 0, \"ticks\": \"\"}}, \"type\": \"scatterternary\"}], \"surface\": [{\"colorbar\": {\"outlinewidth\": 0, \"ticks\": \"\"}, \"colorscale\": [[0.0, \"#0d0887\"], [0.1111111111111111, \"#46039f\"], [0.2222222222222222, \"#7201a8\"], [0.3333333333333333, \"#9c179e\"], [0.4444444444444444, \"#bd3786\"], [0.5555555555555556, \"#d8576b\"], [0.6666666666666666, \"#ed7953\"], [0.7777777777777778, \"#fb9f3a\"], [0.8888888888888888, \"#fdca26\"], [1.0, \"#f0f921\"]], \"type\": \"surface\"}], \"table\": [{\"cells\": {\"fill\": {\"color\": \"#EBF0F8\"}, \"line\": {\"color\": \"white\"}}, \"header\": {\"fill\": {\"color\": \"#C8D4E3\"}, \"line\": {\"color\": \"white\"}}, \"type\": \"table\"}]}, \"layout\": {\"annotationdefaults\": {\"arrowcolor\": \"#2a3f5f\", \"arrowhead\": 0, \"arrowwidth\": 1}, \"coloraxis\": {\"colorbar\": {\"outlinewidth\": 0, \"ticks\": \"\"}}, \"colorscale\": {\"diverging\": [[0, \"#8e0152\"], [0.1, \"#c51b7d\"], [0.2, \"#de77ae\"], [0.3, \"#f1b6da\"], [0.4, \"#fde0ef\"], [0.5, \"#f7f7f7\"], [0.6, \"#e6f5d0\"], [0.7, \"#b8e186\"], [0.8, \"#7fbc41\"], [0.9, \"#4d9221\"], [1, \"#276419\"]], \"sequential\": [[0.0, \"#0d0887\"], [0.1111111111111111, \"#46039f\"], [0.2222222222222222, \"#7201a8\"], [0.3333333333333333, \"#9c179e\"], [0.4444444444444444, \"#bd3786\"], [0.5555555555555556, \"#d8576b\"], [0.6666666666666666, \"#ed7953\"], [0.7777777777777778, \"#fb9f3a\"], [0.8888888888888888, \"#fdca26\"], [1.0, \"#f0f921\"]], \"sequentialminus\": [[0.0, \"#0d0887\"], [0.1111111111111111, \"#46039f\"], [0.2222222222222222, \"#7201a8\"], [0.3333333333333333, \"#9c179e\"], [0.4444444444444444, \"#bd3786\"], [0.5555555555555556, \"#d8576b\"], [0.6666666666666666, \"#ed7953\"], [0.7777777777777778, \"#fb9f3a\"], [0.8888888888888888, \"#fdca26\"], [1.0, \"#f0f921\"]]}, \"colorway\": [\"#636efa\", \"#EF553B\", \"#00cc96\", \"#ab63fa\", \"#FFA15A\", \"#19d3f3\", \"#FF6692\", \"#B6E880\", \"#FF97FF\", \"#FECB52\"], \"font\": {\"color\": \"#2a3f5f\"}, \"geo\": {\"bgcolor\": \"white\", \"lakecolor\": \"white\", \"landcolor\": \"#E5ECF6\", \"showlakes\": true, \"showland\": true, \"subunitcolor\": \"white\"}, \"hoverlabel\": {\"align\": \"left\"}, \"hovermode\": \"closest\", \"mapbox\": {\"style\": \"light\"}, \"paper_bgcolor\": \"white\", \"plot_bgcolor\": \"#E5ECF6\", \"polar\": {\"angularaxis\": {\"gridcolor\": \"white\", \"linecolor\": \"white\", \"ticks\": \"\"}, \"bgcolor\": \"#E5ECF6\", \"radialaxis\": {\"gridcolor\": \"white\", \"linecolor\": \"white\", \"ticks\": \"\"}}, \"scene\": {\"xaxis\": {\"backgroundcolor\": \"#E5ECF6\", \"gridcolor\": \"white\", \"gridwidth\": 2, \"linecolor\": \"white\", \"showbackground\": true, \"ticks\": \"\", \"zerolinecolor\": \"white\"}, \"yaxis\": {\"backgroundcolor\": \"#E5ECF6\", \"gridcolor\": \"white\", \"gridwidth\": 2, \"linecolor\": \"white\", \"showbackground\": true, \"ticks\": \"\", \"zerolinecolor\": \"white\"}, \"zaxis\": {\"backgroundcolor\": \"#E5ECF6\", \"gridcolor\": \"white\", \"gridwidth\": 2, \"linecolor\": \"white\", \"showbackground\": true, \"ticks\": \"\", \"zerolinecolor\": \"white\"}}, \"shapedefaults\": {\"line\": {\"color\": \"#2a3f5f\"}}, \"ternary\": {\"aaxis\": {\"gridcolor\": \"white\", \"linecolor\": \"white\", \"ticks\": \"\"}, \"baxis\": {\"gridcolor\": \"white\", \"linecolor\": \"white\", \"ticks\": \"\"}, \"bgcolor\": \"#E5ECF6\", \"caxis\": {\"gridcolor\": \"white\", \"linecolor\": \"white\", \"ticks\": \"\"}}, \"title\": {\"x\": 0.05}, \"xaxis\": {\"automargin\": true, \"gridcolor\": \"white\", \"linecolor\": \"white\", \"ticks\": \"\", \"title\": {\"standoff\": 15}, \"zerolinecolor\": \"white\", \"zerolinewidth\": 2}, \"yaxis\": {\"automargin\": true, \"gridcolor\": \"white\", \"linecolor\": \"white\", \"ticks\": \"\", \"title\": {\"standoff\": 15}, \"zerolinecolor\": \"white\", \"zerolinewidth\": 2}}}, \"width\": 240, \"xaxis\": {\"range\": [0, 200], \"showgrid\": false, \"showline\": false, \"showticklabels\": true, \"ticks\": \"\", \"zeroline\": false}, \"yaxis\": {\"range\": [200, 0], \"showgrid\": false, \"showline\": false, \"showticklabels\": true, \"ticks\": \"\", \"zeroline\": false}},\n",
       "                        {\"responsive\": true}\n",
       "                    ).then(function(){\n",
       "                            \n",
       "var gd = document.getElementById('a7a75ffe-9bdf-47a6-b025-3ca56e427f59');\n",
       "var x = new MutationObserver(function (mutations, observer) {{\n",
       "        var display = window.getComputedStyle(gd).display;\n",
       "        if (!display || display === 'none') {{\n",
       "            console.log([gd, 'removed!']);\n",
       "            Plotly.purge(gd);\n",
       "            observer.disconnect();\n",
       "        }}\n",
       "}});\n",
       "\n",
       "// Listen for the removal of the full notebook cells\n",
       "var notebookContainer = gd.closest('#notebook-container');\n",
       "if (notebookContainer) {{\n",
       "    x.observe(notebookContainer, {childList: true});\n",
       "}}\n",
       "\n",
       "// Listen for the clearing of the current output cell\n",
       "var outputEl = gd.closest('.output');\n",
       "if (outputEl) {{\n",
       "    x.observe(outputEl, {childList: true});\n",
       "}}\n",
       "\n",
       "                        })\n",
       "                };\n",
       "                });\n",
       "            </script>\n",
       "        </div>"
      ]
     },
     "metadata": {},
     "output_type": "display_data"
    }
   ],
   "source": [
    "# Init RadCam\n",
    "# todo, make image_width and height be a tuple (w,h)\n",
    "# Explain usage and show simple to complex examples.\n",
    "# Explain simple steps of what it does.\n",
    "# export to markdown and make a blog post.\n",
    "# do mypy outputs\n",
    "# create a package using conda or poetry.\n",
    "cam = RadCam(model, image_width=200, image_height=200, filter_dims=(15,15), tuple_index=2, color=Colors.orange,\n",
    "            )\n",
    "\n",
    "# Generate a heatmap for every class.\n",
    "heatmaps = cam.heat_map(Image.open(\"example.JPG\").resize((200, 200)))\n",
    "\n",
    "# Display\n",
    "heatmaps[7].show()"
   ]
  },
  {
   "cell_type": "code",
   "execution_count": 7,
   "metadata": {
    "scrolled": true
   },
   "outputs": [
    {
     "data": {
      "application/vnd.jupyter.widget-view+json": {
       "model_id": "a5b0dfe4153745579c9c547735d308e4",
       "version_major": 2,
       "version_minor": 0
      },
      "text/plain": [
       "VBox(children=(HBox(children=(FigureWidget({\n",
       "    'data': [{'hoverinfo': 'text',\n",
       "              'mode': 'markers…"
      ]
     },
     "metadata": {},
     "output_type": "display_data"
    }
   ],
   "source": [
    "cam.show(heatmaps, cols=4, labels=CLASS_MAP)"
   ]
  },
  {
   "cell_type": "code",
   "execution_count": 14,
   "metadata": {},
   "outputs": [
    {
     "data": {
      "application/vnd.jupyter.widget-view+json": {
       "model_id": "7b7f091b218f45b395c98588e8f9c3eb",
       "version_major": 2,
       "version_minor": 0
      },
      "text/plain": [
       "VBox(children=(HBox(children=(FigureWidget({\n",
       "    'data': [{'hoverinfo': 'text',\n",
       "              'mode': 'markers…"
      ]
     },
     "metadata": {},
     "output_type": "display_data"
    }
   ],
   "source": [
    "# Generate a heatmap for every class.\n",
    "heatmaps = cam.heat_map(Image.open(\"example.JPG\").resize((200, 200)), perturbation=Perturbation.median)\n",
    "\n",
    "# Display\n",
    "cam.show(heatmaps[:8], cols=4, labels=CLASS_MAP)"
   ]
  },
  {
   "cell_type": "code",
   "execution_count": null,
   "metadata": {},
   "outputs": [],
   "source": [
    "# Generate a heatmap for every class.\n",
    "heatmaps = cam.heat_map(Image.open(\"example.JPG\").resize((200, 200)), perturbation=Perturbation.mean)\n",
    "\n",
    "# Display\n",
    "for i, heatmap in enumerate(heatmaps):\n",
    "    if i == 7:\n",
    "        heatmap.show()"
   ]
  },
  {
   "cell_type": "code",
   "execution_count": null,
   "metadata": {},
   "outputs": [],
   "source": [
    "# Generate a heatmap for every class.\n",
    "heatmaps = cam.heat_map(Image.open(\"example.JPG\").resize((200, 200)), perturbation=Perturbation.white)\n",
    "\n",
    "# Display\n",
    "for i, heatmap in enumerate(heatmaps):\n",
    "    if i == 7:\n",
    "        heatmap.show()"
   ]
  },
  {
   "cell_type": "code",
   "execution_count": null,
   "metadata": {},
   "outputs": [],
   "source": []
  },
  {
   "cell_type": "code",
   "execution_count": null,
   "metadata": {},
   "outputs": [],
   "source": [
    "#!rm -r plant_disease"
   ]
  }
 ],
 "metadata": {
  "kernelspec": {
   "display_name": "Python 3",
   "language": "python",
   "name": "python3"
  },
  "language_info": {
   "codemirror_mode": {
    "name": "ipython",
    "version": 3
   },
   "file_extension": ".py",
   "mimetype": "text/x-python",
   "name": "python",
   "nbconvert_exporter": "python",
   "pygments_lexer": "ipython3",
   "version": "3.7.4"
  }
 },
 "nbformat": 4,
 "nbformat_minor": 2
}
